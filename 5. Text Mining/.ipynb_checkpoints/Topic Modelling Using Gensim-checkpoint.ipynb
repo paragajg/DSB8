{
 "cells": [
  {
   "cell_type": "markdown",
   "metadata": {},
   "source": [
    "### Topic Modelling Demo Code"
   ]
  },
  {
   "cell_type": "markdown",
   "metadata": {},
   "source": [
    "#### Things I want to do -\n",
    "- Identify a package to build / train LDA model\n",
    "- Use visualization to explore Documents -> Topics Distribution -> Word distribution"
   ]
  },
  {
   "cell_type": "code",
   "execution_count": 2,
   "metadata": {},
   "outputs": [
    {
     "name": "stdout",
     "output_type": "stream",
     "text": [
      "Requirement already satisfied: pyLDAvis in /Users/paragpradhan/opt/anaconda3/lib/python3.8/site-packages (2.1.2)\n",
      "Requirement already satisfied: joblib>=0.8.4 in /Users/paragpradhan/opt/anaconda3/lib/python3.8/site-packages (from pyLDAvis) (0.16.0)\n",
      "Requirement already satisfied: wheel>=0.23.0 in /Users/paragpradhan/opt/anaconda3/lib/python3.8/site-packages (from pyLDAvis) (0.35.1)\n",
      "Requirement already satisfied: numpy>=1.9.2 in /Users/paragpradhan/opt/anaconda3/lib/python3.8/site-packages (from pyLDAvis) (1.19.4)\n",
      "Requirement already satisfied: pytest in /Users/paragpradhan/opt/anaconda3/lib/python3.8/site-packages (from pyLDAvis) (5.4.3)\n",
      "Requirement already satisfied: scipy>=0.18.0 in /Users/paragpradhan/opt/anaconda3/lib/python3.8/site-packages (from pyLDAvis) (1.5.0)\n",
      "Requirement already satisfied: pandas>=0.17.0 in /Users/paragpradhan/opt/anaconda3/lib/python3.8/site-packages (from pyLDAvis) (1.0.5)\n",
      "Requirement already satisfied: numexpr in /Users/paragpradhan/opt/anaconda3/lib/python3.8/site-packages (from pyLDAvis) (2.7.1)\n",
      "Requirement already satisfied: future in /Users/paragpradhan/opt/anaconda3/lib/python3.8/site-packages (from pyLDAvis) (0.18.2)\n",
      "Requirement already satisfied: jinja2>=2.7.2 in /Users/paragpradhan/opt/anaconda3/lib/python3.8/site-packages (from pyLDAvis) (2.11.2)\n",
      "Requirement already satisfied: funcy in /Users/paragpradhan/opt/anaconda3/lib/python3.8/site-packages (from pyLDAvis) (1.15)\n",
      "Requirement already satisfied: py>=1.5.0 in /Users/paragpradhan/opt/anaconda3/lib/python3.8/site-packages (from pytest->pyLDAvis) (1.9.0)\n",
      "Requirement already satisfied: packaging in /Users/paragpradhan/opt/anaconda3/lib/python3.8/site-packages (from pytest->pyLDAvis) (20.4)\n",
      "Requirement already satisfied: attrs>=17.4.0 in /Users/paragpradhan/opt/anaconda3/lib/python3.8/site-packages (from pytest->pyLDAvis) (18.2.0)\n",
      "Requirement already satisfied: more-itertools>=4.0.0 in /Users/paragpradhan/opt/anaconda3/lib/python3.8/site-packages (from pytest->pyLDAvis) (8.4.0)\n",
      "Requirement already satisfied: pluggy<1.0,>=0.12 in /Users/paragpradhan/opt/anaconda3/lib/python3.8/site-packages (from pytest->pyLDAvis) (0.13.1)\n",
      "Requirement already satisfied: wcwidth in /Users/paragpradhan/opt/anaconda3/lib/python3.8/site-packages (from pytest->pyLDAvis) (0.2.5)\n",
      "Requirement already satisfied: python-dateutil>=2.6.1 in /Users/paragpradhan/opt/anaconda3/lib/python3.8/site-packages (from pandas>=0.17.0->pyLDAvis) (2.8.1)\n",
      "Requirement already satisfied: pytz>=2017.2 in /Users/paragpradhan/opt/anaconda3/lib/python3.8/site-packages (from pandas>=0.17.0->pyLDAvis) (2020.1)\n",
      "Requirement already satisfied: MarkupSafe>=0.23 in /Users/paragpradhan/opt/anaconda3/lib/python3.8/site-packages (from jinja2>=2.7.2->pyLDAvis) (1.1.1)\n",
      "Requirement already satisfied: six in /Users/paragpradhan/opt/anaconda3/lib/python3.8/site-packages (from packaging->pytest->pyLDAvis) (1.15.0)\n",
      "Requirement already satisfied: pyparsing>=2.0.2 in /Users/paragpradhan/opt/anaconda3/lib/python3.8/site-packages (from packaging->pytest->pyLDAvis) (2.4.7)\n"
     ]
    }
   ],
   "source": [
    "!pip install pyLDAvis, gensim"
   ]
  },
  {
   "cell_type": "code",
   "execution_count": 3,
   "metadata": {},
   "outputs": [
    {
     "name": "stderr",
     "output_type": "stream",
     "text": [
      "/Users/paragpradhan/opt/anaconda3/lib/python3.8/site-packages/scipy/sparse/sparsetools.py:21: DeprecationWarning: `scipy.sparse.sparsetools` is deprecated!\n",
      "scipy.sparse.sparsetools is a private module for scipy.sparse, and should not be used.\n",
      "  _deprecated()\n"
     ]
    }
   ],
   "source": [
    "import numpy as np\n",
    "import pandas as pd\n",
    "\n",
    "# Visualization\n",
    "import matplotlib.pyplot as plt\n",
    "from matplotlib.ticker import FuncFormatter\n",
    "import seaborn as sns\n",
    "import pyLDAvis.gensim\n",
    "\n",
    "# Text Preprocessing and model building\n",
    "from gensim.corpora import Dictionary\n",
    "import nltk\n",
    "from nltk.stem import WordNetLemmatizer\n",
    "import re\n",
    "# Iteratively read files\n",
    "import glob\n",
    "import os\n",
    "\n",
    "# For displaying images in ipython\n",
    "from IPython.display import HTML, display"
   ]
  },
  {
   "cell_type": "code",
   "execution_count": 4,
   "metadata": {},
   "outputs": [],
   "source": [
    "%matplotlib inline\n",
    "plt.style.use('ggplot')\n",
    "plt.rcParams['figure.figsize'] = (14.0, 8.7)\n",
    "#warnings.filterwarnings('ignore')\n",
    "pd.options.display.float_format = '{:,.2f}'.format"
   ]
  },
  {
   "cell_type": "markdown",
   "metadata": {},
   "source": [
    "<h2>Latent Dirichlet Allocation</h2>\n",
    "<h3>From Documents -- DTM -- LDA Model</h3>\n",
    "\n",
    "Topic modeling aims to automatically summarize large collections of documents to facilitate organization and management, as well as search and recommendations. At the same time, it can enable the understanding of documents to the extent that humans can interpret the descriptions of topics\n",
    "\n",
    "<img src=\"images/lda2.png\" alt=\"lda\" style=\"width:60%\">\n",
    "<img src=\"images/docs_to_lda.png\" alt=\"ldaflow\" style=\"width:100%\">"
   ]
  },
  {
   "cell_type": "markdown",
   "metadata": {},
   "source": [
    "### Load Data"
   ]
  },
  {
   "cell_type": "code",
   "execution_count": 5,
   "metadata": {},
   "outputs": [],
   "source": [
    "# User defined function to read and store bbc data from multipe folders\n",
    "def load_data(folder_names,root_path):\n",
    "    fileNames = [path + '/' + 'bbc' +'/'+ folder + '/*.txt' for path,folder in zip([root_path]*len(folder_names),\n",
    "                                                                               folder_names )]\n",
    "    doc_list = []\n",
    "    tags = folder_names\n",
    "    for docs in fileNames:\n",
    "        #print(docs)\n",
    "        #print(type(docs))\n",
    "        doc = glob.glob(docs) # glob method iterates through the all the text documents in a folder\n",
    "        for text in doc:\n",
    "            with open(text, encoding='latin1') as f:\n",
    "                topic = docs.split('/')[-2]\n",
    "\n",
    "                lines = f.readlines()\n",
    "                heading = lines[0].strip()\n",
    "                body = ' '.join([l.strip() for l in lines[1:]])\n",
    "                doc_list.append([topic, heading, body])\n",
    "        print(\"Completed loading data from folder: %s\"%topic)\n",
    "    \n",
    "    print(\"Completed Loading entire text\")\n",
    "    \n",
    "    return doc_list"
   ]
  },
  {
   "cell_type": "code",
   "execution_count": 6,
   "metadata": {},
   "outputs": [
    {
     "name": "stdout",
     "output_type": "stream",
     "text": [
      "Completed loading data from folder: business\n",
      "Completed loading data from folder: entertainment\n",
      "Completed loading data from folder: politics\n",
      "Completed loading data from folder: sport\n",
      "Completed loading data from folder: tech\n",
      "Completed Loading entire text\n"
     ]
    }
   ],
   "source": [
    "folder_names = ['business','entertainment','politics','sport','tech']\n",
    "docs = load_data(folder_names = folder_names, root_path = os.getcwd())"
   ]
  },
  {
   "cell_type": "code",
   "execution_count": 7,
   "metadata": {},
   "outputs": [
    {
     "name": "stdout",
     "output_type": "stream",
     "text": [
      "   Category                            Heading  \\\n",
      "0  business    UK economy facing 'major risks'   \n",
      "1  business  Aids and climate top Davos agenda   \n",
      "2  business   Asian quake hits European shares   \n",
      "3  business   India power shares jump on debut   \n",
      "4  business    Lacroix label bought by US firm   \n",
      "\n",
      "                                             Article  \n",
      "0   The UK manufacturing sector will continue to ...  \n",
      "1   Climate change and the fight against Aids are...  \n",
      "2   Shares in Europe's leading reinsurers and tra...  \n",
      "3   Shares in India's largest power producer, Nat...  \n",
      "4   Luxury goods group LVMH has sold its loss-mak...  \n",
      "\n",
      "Shape of data is (2225, 3)\n",
      "\n"
     ]
    }
   ],
   "source": [
    "docs = pd.DataFrame(docs, columns=['Category', 'Heading', 'Article'])\n",
    "print(docs.head())\n",
    "print('\\nShape of data is {}\\n'.format(docs.shape))"
   ]
  },
  {
   "cell_type": "markdown",
   "metadata": {},
   "source": [
    "### Extract Raw Corpus"
   ]
  },
  {
   "cell_type": "code",
   "execution_count": 8,
   "metadata": {},
   "outputs": [],
   "source": [
    "articles = docs.Article.tolist()"
   ]
  },
  {
   "cell_type": "code",
   "execution_count": 9,
   "metadata": {},
   "outputs": [
    {
     "name": "stdout",
     "output_type": "stream",
     "text": [
      "<class 'list'>\n",
      "[' The UK manufacturing sector will continue to face \"serious challenges\" over the next two years, the British Chamber of Commerce (BCC) has said.  The group\\'s quarterly survey of companies found exports had picked up in the last three months of 2004 to their best levels in eight years. The rise came despite exchange rates being cited as a major concern. However, the BCC found the whole UK economy still faced \"major risks\" and warned that growth is set to slow. It recently forecast economic growth will slow from more than 3% in 2004 to a little below 2.5% in both 2005 and 2006.  Manufacturers\\' domestic sales growth fell back slightly in the quarter, the survey of 5,196 firms found. Employment in manufacturing also fell and job expectations were at their lowest level for a year.  \"Despite some positive news for the export sector, there are worrying signs for manufacturing,\" the BCC said. \"These results reinforce our concern over the sector\\'s persistent inability to sustain recovery.\" The outlook for the service sector was \"uncertain\" despite an increase in exports and orders over the quarter, the BCC noted.  The BCC found confidence increased in the quarter across both the manufacturing and service sectors although overall it failed to reach the levels at the start of 2004. The reduced threat of interest rate increases had contributed to improved confidence, it said. The Bank of England raised interest rates five times between November 2003 and August last year. But rates have been kept on hold since then amid signs of falling consumer confidence and a slowdown in output. \"The pressure on costs and margins, the relentless increase in regulations, and the threat of higher taxes remain serious problems,\" BCC director general David Frost said. \"While consumer spending is set to decelerate significantly over the next 12-18 months, it is unlikely that investment and exports will rise sufficiently strongly to pick up the slack.\"', ' Climate change and the fight against Aids are leading the list of concerns for the first day of the World Economic Forum in the Swiss resort of Davos.  Some 2,000 business and political leaders from around the globe will listen to UK Prime Minister Tony Blair\\'s opening speech on Wednesday. Mr Blair will focus on Africa\\'s development plans and global warming. Earlier in the day came an update on efforts to have 3 million people on anti-Aids drugs by the end of 2005. The World Health Organisation (WHO) said 700,000 people in poor countries were on life-extending drugs - up from 440,000 six months earlier but amounting to only 12% of the 5.8 million who needed them. A $2bn \"funding gap\" still stood in the way of hitting the 2005 target, the WHO said.  The themes to be stressed by Mr Blair - whose attendance was announced at the last minute - are those he wants to dominate the UK\\'s chairmanship of the G8 group of industrialised states. Other issues to be discussed at the five-day conference range from China\\'s  economic power to Iraq\\'s future after this Sunday\\'s elections. Aside from Mr Blair, more than 20 other world leaders are expected to attend including French President Jacques Chirac - due to speak by video link after bad weather delayed his helicopter - and South African President Thabo Mbeki, whose arrival has been delayed by Ivory Coast peace talks. The Ukraine\\'s new president, Viktor Yushchenko, will also be there - as will newly elected Palestinian leader Mahmoud Abbas. Showbiz figures will also put in an appearance, from U2 frontman Bono - a well-known campaigner on trade and development issues - to Angelina Jolie, a goodwill campaigner for the UN on refugees.  Unlike previous years, protests against the WEF are expected to be muted. Anti-globalisation campaigners have called off a demonstration planned for the weekend. At the same time, about 100,000 people are expected to converge on the Brazilian resort of Porto Alegre for the World Social Forum - the so-called \"anti-Davos\" for campaigners against globalisation, for fair trade, and many other causes.  In contrast, the Davos forum is dominated by business issues - from outsourcing to corporate leadership - with bosses of more than a fifth of the world\\'s 500 largest companies scheduled to attend. A survey published on the eve of the conference by PricewaterhouseCoopers said four in ten business leaders were \"very confident\" that their companies would see sales rise in 2005. Asian and American executives, however, were much more confident than their European counterparts. But the political discussions, focusing on Iran, Iraq and China, are likely to dominate media attention.']\n"
     ]
    }
   ],
   "source": [
    "print(type(articles))\n",
    "print(articles[0:2])"
   ]
  },
  {
   "cell_type": "code",
   "execution_count": 10,
   "metadata": {},
   "outputs": [],
   "source": [
    "wordnet_lemmatizer = WordNetLemmatizer()"
   ]
  },
  {
   "cell_type": "markdown",
   "metadata": {},
   "source": [
    "### Preprocessing of Raw Text"
   ]
  },
  {
   "cell_type": "code",
   "execution_count": 48,
   "metadata": {},
   "outputs": [],
   "source": [
    "from nltk.corpus import stopwords\n",
    "import nltk\n",
    "# nltk.download('punkt')\n",
    "# nltk.download('wordnet')\n",
    "# nltk.download('stopwords')"
   ]
  },
  {
   "cell_type": "code",
   "execution_count": 51,
   "metadata": {},
   "outputs": [
    {
     "name": "stderr",
     "output_type": "stream",
     "text": [
      "[nltk_data] Downloading package stopwords to\n",
      "[nltk_data]     /Users/paragpradhan/nltk_data...\n",
      "[nltk_data]   Unzipping corpora/stopwords.zip.\n"
     ]
    },
    {
     "data": {
      "text/plain": [
       "True"
      ]
     },
     "execution_count": 51,
     "metadata": {},
     "output_type": "execute_result"
    }
   ],
   "source": [
    "# nltk.download('stopwords')"
   ]
  },
  {
   "cell_type": "code",
   "execution_count": null,
   "metadata": {},
   "outputs": [],
   "source": [
    "stopwords = stopwords.word('english')"
   ]
  },
  {
   "cell_type": "code",
   "execution_count": 56,
   "metadata": {},
   "outputs": [],
   "source": [
    "# Method to preprocess my raw data\n",
    "def preprocessText(x):\n",
    "    temp = x.lower()\n",
    "    temp = re.sub(r'[^\\w]', ' ', temp)\n",
    "    temp = nltk.word_tokenize(temp)\n",
    "    temp = [wordnet_lemmatizer.lemmatize(w) for w in temp]\n",
    "    temp = [word for word in temp if word not in stopwords ]\n",
    "    return temp"
   ]
  },
  {
   "cell_type": "code",
   "execution_count": 15,
   "metadata": {},
   "outputs": [
    {
     "name": "stderr",
     "output_type": "stream",
     "text": [
      "[nltk_data] Downloading package punkt to\n",
      "[nltk_data]     /Users/paragpradhan/nltk_data...\n",
      "[nltk_data]   Package punkt is already up-to-date!\n",
      "[nltk_data] Downloading package wordnet to\n",
      "[nltk_data]     /Users/paragpradhan/nltk_data...\n",
      "[nltk_data]   Unzipping corpora/wordnet.zip.\n"
     ]
    },
    {
     "data": {
      "text/plain": [
       "True"
      ]
     },
     "execution_count": 15,
     "metadata": {},
     "output_type": "execute_result"
    }
   ],
   "source": []
  },
  {
   "cell_type": "code",
   "execution_count": 16,
   "metadata": {},
   "outputs": [],
   "source": [
    "articles_final = [preprocessText(article) for article in articles]"
   ]
  },
  {
   "cell_type": "code",
   "execution_count": null,
   "metadata": {},
   "outputs": [],
   "source": [
    "articles_final[0:2]"
   ]
  },
  {
   "cell_type": "markdown",
   "metadata": {},
   "source": [
    "### Transformation of Preprocessed text into Vector form using Gensim"
   ]
  },
  {
   "cell_type": "code",
   "execution_count": 18,
   "metadata": {},
   "outputs": [],
   "source": [
    "# Create a dictionary representation of the documents.\n",
    "dictionary = Dictionary(articles_final)\n",
    "\n",
    "# Filter out words that occur less than 20 documents, or more than 50% of the documents.\n",
    "dictionary.filter_extremes(no_below=20, no_above=0.5)"
   ]
  },
  {
   "cell_type": "code",
   "execution_count": 19,
   "metadata": {},
   "outputs": [
    {
     "name": "stdout",
     "output_type": "stream",
     "text": [
      "Dictionary(3202 unique tokens: ['12', '18', '2', '2003', '2004']...)\n"
     ]
    }
   ],
   "source": [
    "print(dictionary)"
   ]
  },
  {
   "cell_type": "code",
   "execution_count": 20,
   "metadata": {},
   "outputs": [],
   "source": [
    "# Bag-of-words representation of the documents.\n",
    "corpus = [dictionary.doc2bow(doc) for doc in articles_final]"
   ]
  },
  {
   "cell_type": "code",
   "execution_count": 21,
   "metadata": {},
   "outputs": [
    {
     "name": "stdout",
     "output_type": "stream",
     "text": [
      "Number of unique tokens: 3202\n",
      "Number of documents: 2225\n"
     ]
    }
   ],
   "source": [
    "print('Number of unique tokens: %d' % len(dictionary))\n",
    "print('Number of documents: %d' % len(corpus))"
   ]
  },
  {
   "cell_type": "markdown",
   "metadata": {},
   "source": [
    "### Train LDA model using Gensim"
   ]
  },
  {
   "cell_type": "code",
   "execution_count": 22,
   "metadata": {},
   "outputs": [
    {
     "data": {
      "text/plain": [
       "<gensim.corpora.dictionary.Dictionary at 0x7f9b79679fa0>"
      ]
     },
     "execution_count": 22,
     "metadata": {},
     "output_type": "execute_result"
    }
   ],
   "source": [
    "dictionary"
   ]
  },
  {
   "cell_type": "code",
   "execution_count": 27,
   "metadata": {},
   "outputs": [],
   "source": [
    "# Train LDA model.\n",
    "from gensim.models import LdaModel\n",
    "\n",
    "# Set training parameters.\n",
    "num_topics = 5\n",
    "chunksize = 2000\n",
    "passes = 10\n",
    "# iterations = 400\n",
    "eval_every = None  # Don't evaluate model perplexity, takes too much time.\n",
    "\n",
    "# Make a index to word dictionary.\n",
    "temp = dictionary[0]  # This is only to \"load\" the dictionary.\n",
    "id2word = dictionary.id2token\n",
    "\n",
    "model = LdaModel(\n",
    "    corpus=corpus,\n",
    "    id2word=id2word,\n",
    "    chunksize=chunksize,\n",
    "    alpha='auto',\n",
    "    eta='auto',\n",
    "#     iterations=iterations,\n",
    "    num_topics=num_topics,\n",
    "    passes=passes,\n",
    "    eval_every=eval_every\n",
    ")"
   ]
  },
  {
   "cell_type": "markdown",
   "metadata": {},
   "source": [
    "### Model exploration: Top K words in each topic"
   ]
  },
  {
   "cell_type": "code",
   "execution_count": 36,
   "metadata": {},
   "outputs": [
    {
     "name": "stdout",
     "output_type": "stream",
     "text": [
      "[(0,\n",
      "  '0.027*\"game\" + 0.014*\"you\" + 0.011*\"i\" + 0.008*\"more\" + 0.007*\"can\" + '\n",
      "  '0.007*\"player\" + 0.007*\"or\" + 0.007*\"first\" + 0.006*\"one\" + 0.006*\"like\" + '\n",
      "  '0.006*\"time\" + 0.006*\"world\" + 0.006*\"gadget\" + 0.006*\"all\" + 0.006*\"than\" '\n",
      "  '+ 0.005*\"there\" + 0.005*\"play\" + 0.005*\"title\" + 0.005*\"what\" + '\n",
      "  '0.005*\"new\"'),\n",
      " (1,\n",
      "  '0.012*\"mobile\" + 0.011*\"more\" + 0.011*\"people\" + 0.010*\"technology\" + '\n",
      "  '0.009*\"phone\" + 0.007*\"can\" + 0.007*\"service\" + 0.006*\"than\" + 0.006*\"user\" '\n",
      "  '+ 0.006*\"new\" + 0.005*\"digital\" + 0.005*\"or\" + 0.005*\"one\" + 0.005*\"about\" '\n",
      "  '+ 0.005*\"microsoft\" + 0.005*\"high\" + 0.005*\"we\" + 0.005*\"could\" + '\n",
      "  '0.005*\"music\" + 0.005*\"mr\"'),\n",
      " (2,\n",
      "  '0.011*\"his\" + 0.010*\"i\" + 0.009*\"mr\" + 0.008*\"we\" + 0.006*\"after\" + '\n",
      "  '0.005*\"who\" + 0.004*\"â\" + 0.004*\"u\" + 0.004*\"there\" + 0.004*\"new\" + '\n",
      "  '0.004*\"over\" + 0.004*\"last\" + 0.004*\"out\" + 0.004*\"time\" + '\n",
      "  '0.004*\"government\" + 0.003*\"if\" + 0.003*\"t\" + 0.003*\"more\" + 0.003*\"about\" '\n",
      "  '+ 0.003*\"two\"'),\n",
      " (3,\n",
      "  '0.009*\"people\" + 0.009*\"or\" + 0.007*\"u\" + 0.007*\"could\" + 0.007*\"about\" + '\n",
      "  '0.006*\"can\" + 0.006*\"information\" + 0.006*\"mr\" + 0.006*\"computer\" + '\n",
      "  '0.005*\"company\" + 0.005*\"service\" + 0.005*\"site\" + 0.005*\"website\" + '\n",
      "  '0.005*\"firm\" + 0.005*\"use\" + 0.005*\"one\" + 0.005*\"more\" + 0.005*\"system\" + '\n",
      "  '0.005*\"who\" + 0.005*\"online\"'),\n",
      " (4,\n",
      "  '0.016*\"file\" + 0.015*\"virus\" + 0.012*\"software\" + 0.012*\"film\" + '\n",
      "  '0.011*\"program\" + 0.010*\"music\" + 0.009*\"mail\" + 0.008*\"system\" + '\n",
      "  '0.008*\"site\" + 0.007*\"e\" + 0.007*\"people\" + 0.007*\"network\" + 0.007*\"anti\" '\n",
      "  '+ 0.007*\"being\" + 0.006*\"movie\" + 0.006*\"industry\" + 0.006*\"firm\" + '\n",
      "  '0.006*\"mr\" + 0.006*\"award\" + 0.006*\"new\"')]\n"
     ]
    }
   ],
   "source": [
    "# Print the Keyword in the 10 topics\n",
    "pprint.pprint(model.print_topics(num_words= 20))\n",
    "doc_lda = model[corpus]"
   ]
  },
  {
   "cell_type": "markdown",
   "metadata": {},
   "source": [
    "### Model Visualization using PyLDAvis"
   ]
  },
  {
   "cell_type": "code",
   "execution_count": 35,
   "metadata": {},
   "outputs": [
    {
     "data": {
      "text/html": [
       "\n",
       "<link rel=\"stylesheet\" type=\"text/css\" href=\"https://cdn.rawgit.com/bmabey/pyLDAvis/files/ldavis.v1.0.0.css\">\n",
       "\n",
       "\n",
       "<div id=\"ldavis_el192031403053822252805627661434\"></div>\n",
       "<script type=\"text/javascript\">\n",
       "\n",
       "var ldavis_el192031403053822252805627661434_data = {\"mdsDat\": {\"x\": [-0.11425821926768882, -0.11059261594783498, 0.004980350957892846, 0.04440919179475523, 0.17546129246287545], \"y\": [0.10356298186982242, -0.11167970304535088, -0.057481381874079994, 0.08959550473913781, -0.023997401689529227], \"topics\": [1, 2, 3, 4, 5], \"cluster\": [1, 1, 1, 1, 1], \"Freq\": [56.84777069091797, 13.749506950378418, 12.846450805664062, 12.162861824035645, 4.39340877532959]}, \"tinfo\": {\"Term\": [\"game\", \"people\", \"you\", \"mobile\", \"software\", \"more\", \"i\", \"music\", \"film\", \"technology\", \"file\", \"can\", \"virus\", \"firm\", \"phone\", \"or\", \"system\", \"mr\", \"new\", \"being\", \"service\", \"site\", \"player\", \"could\", \"user\", \"mail\", \"who\", \"one\", \"network\", \"program\", \"blair\", \"tax\", \"brown\", \"tory\", \"wale\", \"chancellor\", \"conservative\", \"coach\", \"rugby\", \"yukos\", \"sir\", \"investor\", \"liverpool\", \"lib\", \"denied\", \"arsenal\", \"shareholder\", \"liberal\", \"deficit\", \"kennedy\", \"russia\", \"robinson\", \"reform\", \"economist\", \"mp\", \"v\", \"east\", \"campbell\", \"johnson\", \"administration\", \"economy\", \"club\", \"labour\", \"economic\", \"charles\", \"england\", \"howard\", \"victory\", \"drug\", \"party\", \"lord\", \"ireland\", \"foreign\", \"his\", \"election\", \"prime\", \"cup\", \"after\", \"minister\", \"oil\", \"former\", \"injury\", \"season\", \"i\", \"government\", \"mr\", \"we\", \"\\u00e2\", \"him\", \"win\", \"against\", \"1\", \"last\", \"t\", \"who\", \"over\", \"told\", \"country\", \"two\", \"u\", \"there\", \"out\", \"if\", \"new\", \"time\", \"back\", \"when\", \"all\", \"about\", \"one\", \"more\", \"first\", \"than\", \"nintendo\", \"hip\", \"chart\", \"seed\", \"sequel\", \"genre\", \"animated\", \"halo\", \"roddick\", \"brit\", \"federer\", \"hop\", \"soul\", \"elvis\", \"blockbuster\", \"stuff\", \"gamers\", \"earth\", \"title\", \"los\", \"game\", \"handheld\", \"adventure\", \"shoot\", \"metal\", \"laptop\", \"concert\", \"starred\", \"console\", \"virtual\", \"xbox\", \"gadget\", \"spanish\", \"san\", \"gaming\", \"d\", \"artist\", \"screen\", \"you\", \"sony\", \"play\", \"magazine\", \"player\", \"top\", \"list\", \"really\", \"your\", \"fan\", \"like\", \"life\", \"playing\", \"first\", \"i\", \"world\", \"can\", \"more\", \"or\", \"best\", \"what\", \"2\", \"one\", \"time\", \"all\", \"than\", \"so\", \"there\", \"way\", \"new\", \"just\", \"who\", \"3g\", \"handset\", \"broadband\", \"messaging\", \"samsung\", \"definition\", \"storage\", \"multimedia\", \"electronics\", \"search\", \"dvd\", \"cell\", \"nokia\", \"engine\", \"phone\", \"format\", \"photo\", \"function\", \"operator\", \"processor\", \"mobile\", \"library\", \"recorder\", \"faster\", \"store\", \"bt\", \"subscriber\", \"digital\", \"generation\", \"fi\", \"customer\", \"technology\", \"speed\", \"microsoft\", \"content\", \"consumer\", \"tv\", \"camera\", \"device\", \"video\", \"user\", \"data\", \"pc\", \"service\", \"people\", \"high\", \"more\", \"network\", \"music\", \"access\", \"use\", \"can\", \"than\", \"such\", \"firm\", \"net\", \"new\", \"or\", \"one\", \"about\", \"could\", \"we\", \"mr\", \"out\", \"id\", \"blog\", \"convention\", \"identity\", \"monitoring\", \"harm\", \"protected\", \"document\", \"spokesperson\", \"analysis\", \"investigating\", \"un\", \"underground\", \"sentence\", \"filing\", \"fraud\", \"privacy\", \"chapter\", \"procedure\", \"protect\", \"confidential\", \"traffic\", \"community\", \"criminal\", \"organisation\", \"journalist\", \"law\", \"spam\", \"contains\", \"internal\", \"respond\", \"information\", \"source\", \"attack\", \"card\", \"security\", \"website\", \"site\", \"code\", \"computer\", \"human\", \"e\", \"internet\", \"online\", \"word\", \"legal\", \"use\", \"mail\", \"system\", \"or\", \"people\", \"software\", \"service\", \"net\", \"could\", \"firm\", \"company\", \"u\", \"about\", \"can\", \"news\", \"say\", \"using\", \"other\", \"such\", \"one\", \"mr\", \"who\", \"more\", \"there\", \"infected\", \"copyright\", \"bafta\", \"drake\", \"file\", \"sharing\", \"vera\", \"virus\", \"musician\", \"malicious\", \"scorsese\", \"piracy\", \"writer\", \"theatre\", \"studying\", \"sideways\", \"program\", \"peer\", \"spread\", \"student\", \"learning\", \"actress\", \"aviator\", \"nominee\", \"nominated\", \"fake\", \"technique\", \"shared\", \"shut\", \"harder\", \"copy\", \"illegal\", \"movie\", \"award\", \"mail\", \"film\", \"anti\", \"software\", \"e\", \"version\", \"music\", \"legal\", \"site\", \"network\", \"system\", \"window\", \"industry\", \"being\", \"user\", \"firm\", \"people\", \"website\", \"make\", \"used\", \"new\", \"mr\", \"many\", \"who\"], \"Freq\": [1884.0, 1903.0, 1472.0, 796.0, 638.0, 2328.0, 3438.0, 673.0, 533.0, 826.0, 358.0, 1826.0, 362.0, 951.0, 620.0, 1648.0, 660.0, 3155.0, 1949.0, 899.0, 879.0, 524.0, 842.0, 1560.0, 621.0, 388.0, 1977.0, 1836.0, 501.0, 322.0, 534.2267456054688, 534.2078857421875, 430.3345642089844, 462.8468933105469, 357.2239074707031, 261.05828857421875, 242.69468688964844, 238.7014923095703, 201.38377380371094, 173.544189453125, 169.67066955566406, 158.10092163085938, 153.31935119628906, 161.7979736328125, 148.39013671875, 146.4047088623047, 124.4588394165039, 183.30105590820312, 123.48849487304688, 119.66590881347656, 154.684814453125, 119.65438079833984, 130.03848266601562, 114.77534484863281, 287.1617736816406, 113.6979751586914, 104.17764282226562, 100.39531707763672, 106.08667755126953, 105.91648864746094, 435.06365966796875, 419.5948791503906, 737.3352661132812, 385.4235534667969, 158.14785766601562, 567.3958129882812, 327.5150451660156, 203.54458618164062, 175.32789611816406, 773.8643188476562, 398.6731262207031, 312.9261169433594, 397.9837951660156, 2796.233154296875, 676.3139038085938, 318.9185485839844, 271.6221008300781, 1530.044921875, 643.6296997070312, 272.49102783203125, 422.5617370605469, 248.50636291503906, 276.14617919921875, 2619.07958984375, 906.1712036132812, 2352.54931640625, 2157.623046875, 1123.251953125, 543.6331176757812, 524.0966186523438, 771.2587890625, 729.9603881835938, 969.3004150390625, 885.0050659179688, 1254.7623291015625, 972.5776977539062, 718.2178344726562, 632.5318603515625, 834.3478393554688, 1055.7242431640625, 1050.9217529296875, 959.3770141601562, 888.3115234375, 1013.5607299804688, 907.13330078125, 641.6642456054688, 761.7571411132812, 794.6907348632812, 835.4108276367188, 799.4889526367188, 848.119873046875, 706.8157958984375, 707.2438354492188, 259.0780334472656, 78.73457336425781, 86.81068420410156, 37.962928771972656, 41.34596633911133, 43.00148391723633, 18.56516456604004, 69.3765640258789, 36.18962478637695, 18.837800979614258, 15.431750297546387, 71.89334106445312, 20.006038665771484, 16.97357940673828, 25.98695182800293, 62.1278190612793, 146.83900451660156, 26.923742294311523, 320.1966552734375, 53.49406433105469, 1679.229248046875, 119.91641998291016, 22.549732208251953, 34.738182067871094, 40.12438201904297, 69.89425659179688, 40.22468948364258, 10.987654685974121, 240.03164672851562, 47.42287063598633, 135.2105712890625, 357.2425537109375, 73.62067413330078, 110.25103759765625, 194.23440551757812, 241.61880493164062, 104.60792541503906, 162.64007568359375, 876.8573608398438, 241.85153198242188, 322.350830078125, 109.19300079345703, 439.2151184082031, 294.7543029785156, 188.68336486816406, 195.3949737548828, 182.3304443359375, 142.45005798339844, 381.6892395019531, 241.06040954589844, 144.82955932617188, 410.0139465332031, 678.3245239257812, 360.3860168457031, 455.0843811035156, 519.3316040039062, 412.5235900878906, 227.7356719970703, 312.0130615234375, 265.3943176269531, 391.9152526855469, 360.8857116699219, 354.60430908203125, 349.91058349609375, 276.9705505371094, 327.05194091796875, 253.73974609375, 299.634765625, 240.73651123046875, 253.58566284179688, 120.79573822021484, 124.02547454833984, 229.8102264404297, 27.11461067199707, 33.782413482666016, 114.44136810302734, 73.24881744384766, 65.98950958251953, 85.04302978515625, 243.1199188232422, 241.05227661132812, 75.96040344238281, 53.63580322265625, 85.76236724853516, 550.73291015625, 90.90187072753906, 70.16183471679688, 42.21650314331055, 121.6194839477539, 57.10246276855469, 672.6141967773438, 44.72605895996094, 31.603618621826172, 65.19654846191406, 82.61354064941406, 98.17947387695312, 24.570842742919922, 313.8355712890625, 134.3267364501953, 56.832645416259766, 133.6859130859375, 601.4689331054688, 155.6460723876953, 277.4862060546875, 195.5010223388672, 261.018310546875, 254.12913513183594, 109.31616973876953, 234.4622802734375, 254.57530212402344, 353.4507751464844, 210.1827392578125, 241.6065216064453, 406.6072692871094, 616.1897583007812, 275.0063781738281, 645.1240234375, 228.0377197265625, 267.0419921875, 155.72666931152344, 256.8092346191406, 433.5918884277344, 378.071044921875, 254.99533081054688, 260.18994140625, 207.7199249267578, 327.8146057128906, 305.71417236328125, 299.11138916015625, 278.9189147949219, 267.9313659667969, 268.586181640625, 265.40228271484375, 242.88735961914062, 69.32308959960938, 182.56423950195312, 28.565027236938477, 53.05349349975586, 35.962703704833984, 39.90888214111328, 27.20999526977539, 102.14112854003906, 35.645904541015625, 36.88964080810547, 23.55457305908203, 34.85341262817383, 17.26882553100586, 43.00483703613281, 19.663461685180664, 63.83624267578125, 26.89309310913086, 26.661481857299805, 20.0324649810791, 82.97950744628906, 34.52179718017578, 91.35884094238281, 116.06411743164062, 82.58123779296875, 121.59335327148438, 87.55766296386719, 248.1593017578125, 126.61629486083984, 28.310632705688477, 19.25872230529785, 43.60777282714844, 310.4578857421875, 107.14200592041016, 184.4363555908203, 161.19985961914062, 236.25543212890625, 286.0718994140625, 288.26873779296875, 93.4919204711914, 308.18865966796875, 109.43608856201172, 202.39149475097656, 207.45318603515625, 250.31295776367188, 96.04795837402344, 155.4998016357422, 268.67138671875, 182.67697143554688, 256.9309997558594, 472.28704833984375, 515.1386108398438, 246.66978454589844, 290.88775634765625, 208.49009704589844, 384.4975891113281, 285.29925537109375, 298.5002136230469, 392.3887023925781, 381.0008544921875, 337.3876647949219, 199.74462890625, 248.37637329101562, 169.49752807617188, 235.4454803466797, 217.81829833984375, 266.64080810546875, 309.2014465332031, 256.81719970703125, 261.2442321777344, 203.77987670898438, 75.18231201171875, 29.873300552368164, 25.44066619873047, 9.65829086303711, 326.0223693847656, 100.8520736694336, 9.379026412963867, 307.017578125, 52.6635627746582, 78.21875762939453, 9.193879127502441, 90.41661834716797, 43.38056182861328, 27.469785690307617, 19.23920440673828, 8.544061660766602, 228.41229248046875, 98.7747573852539, 54.98086929321289, 63.81031036376953, 35.2295036315918, 30.957563400268555, 18.445022583007812, 11.811466217041016, 20.168806076049805, 46.234432220458984, 20.08489418029785, 36.623138427734375, 31.31121063232422, 23.203065872192383, 92.70079040527344, 60.56053924560547, 127.01241302490234, 116.45977020263672, 184.300537109375, 235.59974670410156, 135.66339111328125, 246.65025329589844, 147.8033447265625, 114.13443756103516, 203.87991333007812, 109.12657928466797, 153.23855590820312, 144.70025634765625, 167.81732177734375, 82.19647216796875, 120.91154479980469, 134.77452087402344, 109.26722717285156, 120.53865814208984, 147.40185546875, 92.52155303955078, 112.35993957519531, 95.32731628417969, 115.06905364990234, 120.02393341064453, 97.8122787475586, 105.834228515625], \"Total\": [1884.0, 1903.0, 1472.0, 796.0, 638.0, 2328.0, 3438.0, 673.0, 533.0, 826.0, 358.0, 1826.0, 362.0, 951.0, 620.0, 1648.0, 660.0, 3155.0, 1949.0, 899.0, 879.0, 524.0, 842.0, 1560.0, 621.0, 388.0, 1977.0, 1836.0, 501.0, 322.0, 534.6874389648438, 534.6749267578125, 430.7910461425781, 463.360107421875, 357.6780700683594, 261.4990539550781, 243.15785217285156, 239.2163543701172, 201.83251953125, 173.97190856933594, 170.10340881347656, 158.53660583496094, 153.75473022460938, 162.28335571289062, 148.85678100585938, 146.89901733398438, 124.89234161376953, 183.9475555419922, 123.92550659179688, 120.09496307373047, 155.2398223876953, 120.08722686767578, 130.52630615234375, 115.22850799560547, 288.3766784667969, 114.17977142333984, 104.62971496582031, 100.83159637451172, 106.54988861083984, 106.38957214355469, 437.6224670410156, 422.1555480957031, 746.532958984375, 390.9991455078125, 159.24537658691406, 578.998046875, 332.3165283203125, 205.7908477783203, 176.88336181640625, 813.3444213867188, 410.51080322265625, 320.5008544921875, 411.62744140625, 3093.342529296875, 713.0244140625, 328.07598876953125, 279.1090393066406, 1722.326171875, 700.3453369140625, 281.0991516113281, 450.0445861816406, 255.20834350585938, 286.482421875, 3438.620849609375, 1067.9075927734375, 3155.047607421875, 2891.917724609375, 1421.235595703125, 619.8560791015625, 607.9761962890625, 965.9856567382812, 915.5823974609375, 1362.419677734375, 1230.7261962890625, 1977.489990234375, 1417.036376953125, 958.3497924804688, 812.5989990234375, 1240.45703125, 1799.4652099609375, 1868.30810546875, 1628.2576904296875, 1471.267333984375, 1949.3199462890625, 1599.6781005859375, 880.47607421875, 1304.8758544921875, 1544.540283203125, 1779.3695068359375, 1836.95947265625, 2328.621337890625, 1328.3424072265625, 1669.066650390625, 259.978515625, 79.90828704833984, 88.27059936523438, 38.69243621826172, 42.152679443359375, 43.842018127441406, 19.28044319152832, 72.0546875, 37.60742950439453, 19.707582473754883, 16.205690383911133, 75.57660675048828, 21.095985412597656, 18.00055503845215, 27.814905166625977, 67.20271301269531, 159.38807678222656, 29.75617790222168, 355.0624084472656, 59.41032409667969, 1884.822021484375, 136.12969970703125, 25.92693328857422, 39.998600006103516, 46.45275115966797, 81.4299087524414, 47.382266998291016, 13.081788063049316, 285.7913513183594, 56.69327926635742, 164.99514770507812, 459.808349609375, 89.52862548828125, 137.373046875, 254.79290771484375, 324.48199462890625, 131.9694366455078, 219.37493896484375, 1472.7802734375, 360.71875, 537.4949951171875, 152.65774536132812, 842.77685546875, 538.0833740234375, 314.20562744140625, 338.3569641113281, 312.68511962890625, 223.7118377685547, 926.0928955078125, 491.81817626953125, 240.31651306152344, 1328.3424072265625, 3438.620849609375, 1209.1275634765625, 1826.8228759765625, 2328.621337890625, 1648.632568359375, 579.783447265625, 1080.474365234375, 801.6849365234375, 1836.95947265625, 1599.6781005859375, 1544.540283203125, 1669.066650390625, 1083.8189697265625, 1868.30810546875, 907.6408081054688, 1949.3199462890625, 936.7310180664062, 1977.489990234375, 121.60559844970703, 124.86197662353516, 233.67767333984375, 27.905195236206055, 34.78193283081055, 118.10560607910156, 76.57905578613281, 69.18771362304688, 91.86598205566406, 263.0556640625, 261.6666564941406, 82.81133270263672, 58.984413146972656, 95.90493774414062, 620.082763671875, 103.15692901611328, 80.71399688720703, 48.705692291259766, 140.75433349609375, 67.1865463256836, 796.7684326171875, 53.233482360839844, 37.860965728759766, 78.59017181396484, 100.30532836914062, 120.2412109375, 30.384296417236328, 388.2742004394531, 167.64157104492188, 73.23567199707031, 172.53370666503906, 826.3187866210938, 209.20054626464844, 396.2577819824219, 269.9281921386719, 387.5371398925781, 381.9997253417969, 145.3169403076172, 370.0464172363281, 410.139892578125, 621.5836791992188, 334.7119140625, 401.9638366699219, 879.9239501953125, 1903.771240234375, 596.3916015625, 2328.621337890625, 501.96319580078125, 673.6339111328125, 265.5542907714844, 649.5513916015625, 1826.8228759765625, 1669.066650390625, 897.5458374023438, 951.8732299804688, 536.7450561523438, 1949.3199462890625, 1648.632568359375, 1836.95947265625, 1779.3695068359375, 1560.15869140625, 2891.917724609375, 3155.047607421875, 1628.2576904296875, 70.20730590820312, 193.76658630371094, 30.391199111938477, 57.20697784423828, 39.256534576416016, 43.63288116455078, 30.614633560180664, 117.15821838378906, 41.05088806152344, 42.52244186401367, 27.442001342773438, 41.16594696044922, 20.61319923400879, 51.87084197998047, 23.889896392822266, 78.57135772705078, 33.10080337524414, 33.24172592163086, 25.23375701904297, 108.43415069580078, 46.0753288269043, 122.3227310180664, 155.41140747070312, 110.71096801757812, 165.7233428955078, 120.01188659667969, 341.0665588378906, 174.3640594482422, 39.23530960083008, 26.755773544311523, 60.85973358154297, 452.3800964355469, 155.00604248046875, 274.4361877441406, 252.54672241210938, 402.7405090332031, 512.3244018554688, 524.3907470703125, 144.02182006835938, 617.552734375, 177.58206176757812, 391.9657897949219, 428.53887939453125, 563.1715087890625, 156.5491485595703, 303.4910583496094, 649.5513916015625, 388.44317626953125, 660.576904296875, 1648.632568359375, 1903.771240234375, 638.2982788085938, 879.9239501953125, 536.7450561523438, 1560.15869140625, 951.8732299804688, 1038.1219482421875, 1799.4652099609375, 1779.3695068359375, 1826.8228759765625, 556.5592651367188, 1198.005126953125, 419.4173583984375, 1136.4073486328125, 897.5458374023438, 1836.95947265625, 3155.047607421875, 1977.489990234375, 2328.621337890625, 1868.30810546875, 76.37506866455078, 30.64141845703125, 27.263219833374023, 10.43756103515625, 358.607177734375, 114.047119140625, 10.932788848876953, 362.40057373046875, 62.49517059326172, 98.02439880371094, 11.980658531188965, 118.39021301269531, 56.82756042480469, 36.784210205078125, 25.85500717163086, 12.025191307067871, 322.1244201660156, 142.89749145507812, 85.18742370605469, 99.47044372558594, 55.30257034301758, 48.623146057128906, 29.161113739013672, 19.237995147705078, 33.21119689941406, 77.44209289550781, 34.00297164916992, 62.97129440307617, 54.03824234008789, 40.47667694091797, 163.40765380859375, 106.34971618652344, 236.22877502441406, 230.94644165039062, 388.44317626953125, 533.5970458984375, 291.90350341796875, 638.2982788085938, 391.9657897949219, 301.990478515625, 673.6339111328125, 303.4910583496094, 524.3907470703125, 501.96319580078125, 660.576904296875, 221.41494750976562, 449.86956787109375, 899.2337646484375, 621.5836791992188, 951.8732299804688, 1903.771240234375, 512.3244018554688, 1084.8206787109375, 587.6068115234375, 1949.3199462890625, 3155.047607421875, 829.61474609375, 1977.489990234375], \"Category\": [\"Default\", \"Default\", \"Default\", \"Default\", \"Default\", \"Default\", \"Default\", \"Default\", \"Default\", \"Default\", \"Default\", \"Default\", \"Default\", \"Default\", \"Default\", \"Default\", \"Default\", \"Default\", \"Default\", \"Default\", \"Default\", \"Default\", \"Default\", \"Default\", \"Default\", \"Default\", \"Default\", \"Default\", \"Default\", \"Default\", \"Topic1\", \"Topic1\", \"Topic1\", \"Topic1\", \"Topic1\", \"Topic1\", \"Topic1\", \"Topic1\", \"Topic1\", \"Topic1\", \"Topic1\", \"Topic1\", \"Topic1\", \"Topic1\", \"Topic1\", \"Topic1\", \"Topic1\", \"Topic1\", \"Topic1\", \"Topic1\", \"Topic1\", \"Topic1\", \"Topic1\", \"Topic1\", \"Topic1\", \"Topic1\", \"Topic1\", \"Topic1\", \"Topic1\", \"Topic1\", \"Topic1\", \"Topic1\", \"Topic1\", \"Topic1\", \"Topic1\", \"Topic1\", \"Topic1\", \"Topic1\", \"Topic1\", \"Topic1\", \"Topic1\", \"Topic1\", \"Topic1\", \"Topic1\", \"Topic1\", \"Topic1\", \"Topic1\", \"Topic1\", \"Topic1\", \"Topic1\", \"Topic1\", \"Topic1\", \"Topic1\", \"Topic1\", \"Topic1\", \"Topic1\", \"Topic1\", \"Topic1\", \"Topic1\", \"Topic1\", \"Topic1\", \"Topic1\", \"Topic1\", \"Topic1\", \"Topic1\", \"Topic1\", \"Topic1\", \"Topic1\", \"Topic1\", \"Topic1\", \"Topic1\", \"Topic1\", \"Topic1\", \"Topic1\", \"Topic1\", \"Topic1\", \"Topic1\", \"Topic1\", \"Topic1\", \"Topic1\", \"Topic1\", \"Topic1\", \"Topic1\", \"Topic2\", \"Topic2\", \"Topic2\", \"Topic2\", \"Topic2\", \"Topic2\", \"Topic2\", \"Topic2\", \"Topic2\", \"Topic2\", \"Topic2\", \"Topic2\", \"Topic2\", \"Topic2\", \"Topic2\", \"Topic2\", \"Topic2\", \"Topic2\", \"Topic2\", \"Topic2\", \"Topic2\", \"Topic2\", \"Topic2\", \"Topic2\", \"Topic2\", \"Topic2\", \"Topic2\", \"Topic2\", \"Topic2\", \"Topic2\", \"Topic2\", \"Topic2\", \"Topic2\", \"Topic2\", \"Topic2\", \"Topic2\", \"Topic2\", \"Topic2\", \"Topic2\", \"Topic2\", \"Topic2\", \"Topic2\", \"Topic2\", \"Topic2\", \"Topic2\", \"Topic2\", \"Topic2\", \"Topic2\", \"Topic2\", \"Topic2\", \"Topic2\", \"Topic2\", \"Topic2\", \"Topic2\", \"Topic2\", \"Topic2\", \"Topic2\", \"Topic2\", \"Topic2\", \"Topic2\", \"Topic2\", \"Topic2\", \"Topic2\", \"Topic2\", \"Topic2\", \"Topic2\", \"Topic2\", \"Topic2\", \"Topic2\", \"Topic2\", \"Topic3\", \"Topic3\", \"Topic3\", \"Topic3\", \"Topic3\", \"Topic3\", \"Topic3\", \"Topic3\", \"Topic3\", \"Topic3\", \"Topic3\", \"Topic3\", \"Topic3\", \"Topic3\", \"Topic3\", \"Topic3\", \"Topic3\", \"Topic3\", \"Topic3\", \"Topic3\", \"Topic3\", \"Topic3\", \"Topic3\", \"Topic3\", \"Topic3\", \"Topic3\", \"Topic3\", \"Topic3\", \"Topic3\", \"Topic3\", \"Topic3\", \"Topic3\", \"Topic3\", \"Topic3\", \"Topic3\", \"Topic3\", \"Topic3\", \"Topic3\", \"Topic3\", \"Topic3\", \"Topic3\", \"Topic3\", \"Topic3\", \"Topic3\", \"Topic3\", \"Topic3\", \"Topic3\", \"Topic3\", \"Topic3\", \"Topic3\", \"Topic3\", \"Topic3\", \"Topic3\", \"Topic3\", \"Topic3\", \"Topic3\", \"Topic3\", \"Topic3\", \"Topic3\", \"Topic3\", \"Topic3\", \"Topic3\", \"Topic3\", \"Topic3\", \"Topic4\", \"Topic4\", \"Topic4\", \"Topic4\", \"Topic4\", \"Topic4\", \"Topic4\", \"Topic4\", \"Topic4\", \"Topic4\", \"Topic4\", \"Topic4\", \"Topic4\", \"Topic4\", \"Topic4\", \"Topic4\", \"Topic4\", \"Topic4\", \"Topic4\", \"Topic4\", \"Topic4\", \"Topic4\", \"Topic4\", \"Topic4\", \"Topic4\", \"Topic4\", \"Topic4\", \"Topic4\", \"Topic4\", \"Topic4\", \"Topic4\", \"Topic4\", \"Topic4\", \"Topic4\", \"Topic4\", \"Topic4\", \"Topic4\", \"Topic4\", \"Topic4\", \"Topic4\", \"Topic4\", \"Topic4\", \"Topic4\", \"Topic4\", \"Topic4\", \"Topic4\", \"Topic4\", \"Topic4\", \"Topic4\", \"Topic4\", \"Topic4\", \"Topic4\", \"Topic4\", \"Topic4\", \"Topic4\", \"Topic4\", \"Topic4\", \"Topic4\", \"Topic4\", \"Topic4\", \"Topic4\", \"Topic4\", \"Topic4\", \"Topic4\", \"Topic4\", \"Topic4\", \"Topic4\", \"Topic4\", \"Topic4\", \"Topic4\", \"Topic5\", \"Topic5\", \"Topic5\", \"Topic5\", \"Topic5\", \"Topic5\", \"Topic5\", \"Topic5\", \"Topic5\", \"Topic5\", \"Topic5\", \"Topic5\", \"Topic5\", \"Topic5\", \"Topic5\", \"Topic5\", \"Topic5\", \"Topic5\", \"Topic5\", \"Topic5\", \"Topic5\", \"Topic5\", \"Topic5\", \"Topic5\", \"Topic5\", \"Topic5\", \"Topic5\", \"Topic5\", \"Topic5\", \"Topic5\", \"Topic5\", \"Topic5\", \"Topic5\", \"Topic5\", \"Topic5\", \"Topic5\", \"Topic5\", \"Topic5\", \"Topic5\", \"Topic5\", \"Topic5\", \"Topic5\", \"Topic5\", \"Topic5\", \"Topic5\", \"Topic5\", \"Topic5\", \"Topic5\", \"Topic5\", \"Topic5\", \"Topic5\", \"Topic5\", \"Topic5\", \"Topic5\", \"Topic5\", \"Topic5\", \"Topic5\", \"Topic5\"], \"logprob\": [30.0, 29.0, 28.0, 27.0, 26.0, 25.0, 24.0, 23.0, 22.0, 21.0, 20.0, 19.0, 18.0, 17.0, 16.0, 15.0, 14.0, 13.0, 12.0, 11.0, 10.0, 9.0, 8.0, 7.0, 6.0, 5.0, 4.0, 3.0, 2.0, 1.0, -6.1793999671936035, -6.1793999671936035, -6.395599842071533, -6.322800159454346, -6.5817999839782715, -6.895500183105469, -6.968400001525879, -6.985000133514404, -7.15500020980835, -7.303800106048584, -7.326300144195557, -7.396999835968018, -7.427700042724609, -7.373899936676025, -7.460400104522705, -7.473800182342529, -7.636199951171875, -7.249100208282471, -7.644100189208984, -7.67549991607666, -7.418799877166748, -7.675600051879883, -7.592400074005127, -7.717199802398682, -6.80019998550415, -7.7266998291015625, -7.8140997886657715, -7.851099967956543, -7.795899868011475, -7.797599792480469, -6.384699821472168, -6.420899868011475, -5.8572001457214355, -6.505899906158447, -7.396699905395508, -6.119100093841553, -6.668700218200684, -7.1442999839782715, -7.293499946594238, -5.808800220489502, -6.472099781036377, -6.714200019836426, -6.473800182342529, -4.524199962615967, -5.94350004196167, -6.695300102233887, -6.855800151824951, -5.127200126647949, -5.993100166320801, -6.85260009765625, -6.413899898529053, -6.944699764251709, -6.839300155639648, -4.589600086212158, -5.651000022888184, -4.696899890899658, -4.783400058746338, -5.436200141906738, -6.161900043487549, -6.198500156402588, -5.81220006942749, -5.867199897766113, -5.583600044250488, -5.674600124359131, -5.325500011444092, -5.5802998542785645, -5.883399963378906, -6.010499954223633, -5.73360013961792, -5.498199939727783, -5.502799987792969, -5.593900203704834, -5.670899868011475, -5.539000034332275, -5.649899959564209, -5.996099948883057, -5.8246002197265625, -5.782299995422363, -5.7322998046875, -5.776199817657471, -5.717199802398682, -5.899400234222412, -5.898799896240234, -5.483699798583984, -6.674699783325195, -6.577099800109863, -7.404200077056885, -7.318900108337402, -7.279600143432617, -8.119500160217285, -6.801300048828125, -7.452099800109863, -8.104999542236328, -8.304400444030762, -6.765600204467773, -8.0447998046875, -8.209199905395508, -7.783199787139893, -6.911600112915039, -6.051499843597412, -7.747799873352051, -5.271900177001953, -7.061299800872803, -3.6147000789642334, -6.254000186920166, -7.925099849700928, -7.493000030517578, -7.348800182342529, -6.793799877166748, -7.34630012512207, -8.644100189208984, -5.560100078582764, -7.181700229644775, -6.133999824523926, -5.162399768829346, -6.7418999671936035, -6.338099956512451, -5.7718000411987305, -5.553500175476074, -6.390600204467773, -5.9492998123168945, -4.264500141143799, -5.552499771118164, -5.265200138092041, -6.347700119018555, -4.9558000564575195, -5.354700088500977, -5.80079984664917, -5.7657999992370605, -5.835000038146973, -6.0817999839782715, -5.096199989318848, -5.555799961090088, -6.065299987792969, -5.024600028991699, -4.521200180053711, -5.15369987487793, -4.920300006866455, -4.788300037384033, -5.018499851226807, -5.612599849700928, -5.297800064086914, -5.45959997177124, -5.069799900054932, -5.152299880981445, -5.1697998046875, -5.183199882507324, -5.416900157928467, -5.250699996948242, -5.504499912261963, -5.3383002281188965, -5.55709981918335, -5.505099773406982, -6.178800106048584, -6.152400016784668, -5.535600185394287, -7.672800064086914, -7.453000068664551, -6.232800006866455, -6.678999900817871, -6.783400058746338, -6.529699802398682, -5.479300022125244, -5.4878997802734375, -6.6427001953125, -6.990699768066406, -6.521299839019775, -4.661600112915039, -6.463099956512451, -6.722099781036377, -7.230100154876709, -6.171999931335449, -6.927999973297119, -4.461699962615967, -7.172299861907959, -7.519599914550781, -6.795499801635742, -6.558700084686279, -6.386099815368652, -7.771299839019775, -5.223999977111816, -6.0725998878479, -6.932799816131592, -6.077400207519531, -4.573500156402588, -5.925300121307373, -5.347099781036377, -5.697299957275391, -5.408299922943115, -5.435100078582764, -6.27869987487793, -5.515600204467773, -5.433300018310547, -5.105199813842773, -5.624899864196777, -5.485599994659424, -4.965000152587891, -4.549300193786621, -5.356100082397461, -4.503499984741211, -5.543399810791016, -5.385499954223633, -5.924799919128418, -5.424600124359131, -4.9008002281188965, -5.037799835205078, -5.431600093841553, -5.411499977111816, -5.63670015335083, -5.1803998947143555, -5.250199794769287, -5.27209997177124, -5.3420000076293945, -5.382199764251709, -5.379700183868408, -5.391600131988525, -5.480299949645996, -6.6793999671936035, -5.711100101470947, -7.565999984741211, -6.946899890899658, -7.335700035095215, -7.231599807739258, -7.61460018157959, -6.291900157928467, -7.344600200653076, -7.310299873352051, -7.758900165557861, -7.367099761962891, -8.069299697875977, -7.156899929046631, -7.939499855041504, -6.761899948120117, -7.626299858093262, -7.635000228881836, -7.920899868011475, -6.499599933624268, -7.3765997886657715, -6.40339994430542, -6.164100170135498, -6.50439977645874, -6.117499828338623, -6.445899963378906, -5.404099941253662, -6.077099800109863, -7.574999809265137, -7.96019983291626, -7.14300012588501, -5.180200099945068, -6.244100093841553, -5.700900077819824, -5.835599899291992, -5.4532999992370605, -5.26200008392334, -5.254300117492676, -6.380300045013428, -5.1875, -6.222899913787842, -5.607999801635742, -5.5833001136779785, -5.395500183105469, -6.353400230407715, -5.871600151062012, -5.324699878692627, -5.7104997634887695, -5.3694000244140625, -4.7606000900268555, -4.673799991607666, -5.410200119018555, -5.245299816131592, -5.5782999992370605, -4.966300010681152, -5.264699935913086, -5.219399929046631, -4.946000099182129, -4.975399971008301, -5.0970001220703125, -5.621200084686279, -5.403299808502197, -5.785399913787842, -5.456699848175049, -5.534599781036377, -5.332300186157227, -5.184199810028076, -5.369800090789795, -5.352799892425537, -5.601200103759766, -5.579999923706055, -6.502999782562256, -6.663599967956543, -7.6321001052856445, -4.11299991607666, -5.286300182342529, -7.661499977111816, -4.172999858856201, -5.935999870300293, -5.54040002822876, -7.681399822235107, -5.395500183105469, -6.129899978637695, -6.5868000984191895, -6.942999839782715, -7.754700183868408, -4.468800067901611, -5.30709981918335, -5.892899990081787, -5.74399995803833, -6.3379998207092285, -6.467299938201904, -6.985099792480469, -7.4309000968933105, -6.8958001136779785, -6.066199779510498, -6.900000095367432, -6.299300193786621, -6.455999851226807, -6.7555999755859375, -5.37060022354126, -5.796299934387207, -5.055600166320801, -5.142399787902832, -4.6834001541137695, -4.43779993057251, -4.989799976348877, -4.392000198364258, -4.9039998054504395, -5.162600040435791, -4.582399845123291, -5.207399845123291, -4.8678998947143555, -4.925300121307373, -4.777100086212158, -5.490799903869629, -5.104899883270264, -4.996300220489502, -5.206099987030029, -5.107999801635742, -4.906799793243408, -5.372499942779541, -5.178199768066406, -5.342599868774414, -5.154399871826172, -5.112199783325195, -5.31689977645874, -5.238100051879883], \"loglift\": [30.0, 29.0, 28.0, 27.0, 26.0, 25.0, 24.0, 23.0, 22.0, 21.0, 20.0, 19.0, 18.0, 17.0, 16.0, 15.0, 14.0, 13.0, 12.0, 11.0, 10.0, 9.0, 8.0, 7.0, 6.0, 5.0, 4.0, 3.0, 2.0, 1.0, 0.5638999938964844, 0.5638999938964844, 0.5637000203132629, 0.5637000203132629, 0.5634999871253967, 0.5630999803543091, 0.5629000067710876, 0.5626000165939331, 0.5626000165939331, 0.5623000264167786, 0.5622000098228455, 0.5619999766349792, 0.5619999766349792, 0.5618000030517578, 0.5616999864578247, 0.5613999962806702, 0.5612999796867371, 0.5612999796867371, 0.5612999796867371, 0.5612000226974487, 0.5612000226974487, 0.5612000226974487, 0.5609999895095825, 0.5608999729156494, 0.5605999827384949, 0.5605999827384949, 0.5605000257492065, 0.5605000257492065, 0.5604000091552734, 0.5602999925613403, 0.558899998664856, 0.5587000250816345, 0.5523999929428101, 0.5504000186920166, 0.5579000115394592, 0.5446000099182129, 0.5501999855041504, 0.5537999868392944, 0.5559999942779541, 0.5149999856948853, 0.5354999899864197, 0.5408999919891357, 0.5310999751091003, 0.46380001306533813, 0.511900007724762, 0.5364999771118164, 0.5375999808311462, 0.446399986743927, 0.48030000925064087, 0.5336999893188477, 0.501800000667572, 0.5382000207901001, 0.527999997138977, 0.29249998927116394, 0.40059998631477356, 0.27129998803138733, 0.2718999981880188, 0.3294999897480011, 0.4336000084877014, 0.4162999987602234, 0.33970001339912415, 0.33820000290870667, 0.22439999878406525, 0.23499999940395355, 0.10989999771118164, 0.188400000333786, 0.27639999985694885, 0.314300000667572, 0.16820000112056732, 0.03150000050663948, -0.010599999688565731, 0.03579999879002571, 0.06019999831914902, -0.08919999748468399, -0.0024999999441206455, 0.2484000027179718, 0.026599999517202377, -0.09969999641180038, -0.19130000472068787, -0.2671000063419342, -0.44519999623298645, -0.06610000133514404, -0.2939000129699707, 1.9807000160217285, 1.9694000482559204, 1.9674999713897705, 1.9651000499725342, 1.9648000001907349, 1.9648000001907349, 1.9464000463485718, 1.9463000297546387, 1.9457000494003296, 1.9390000104904175, 1.9351999759674072, 1.9342000484466553, 1.9311000108718872, 1.9254000186920166, 1.916200041770935, 1.9055999517440796, 1.9021999835968018, 1.8840999603271484, 1.8808000087738037, 1.8792999982833862, 1.8687000274658203, 1.8573999404907227, 1.844599962234497, 1.8431999683380127, 1.8377000093460083, 1.8314000368118286, 1.8203999996185303, 1.8097000122070312, 1.8097000122070312, 1.8056000471115112, 1.785099983215332, 1.7317999601364136, 1.7884999513626099, 1.76419997215271, 1.7128000259399414, 1.6892999410629272, 1.7517999410629272, 1.6849000453948975, 1.4656000137329102, 1.5844000577926636, 1.4729000329971313, 1.6490999460220337, 1.3324999809265137, 1.3823000192642212, 1.4742000102996826, 1.4350999593734741, 1.4448000192642212, 1.5327999591827393, 1.0978000164031982, 1.2711000442504883, 1.4778000116348267, 0.8087000250816345, 0.3610000014305115, 0.7736999988555908, 0.5942999720573425, 0.4837000072002411, 0.598800003528595, 1.0497000217437744, 0.7421000003814697, 0.8787000179290771, 0.439300000667572, 0.4952000081539154, 0.5127000212669373, 0.42179998755455017, 0.6197999715805054, 0.24150000512599945, 0.7095999717712402, 0.11150000244379044, 0.6255000233650208, -0.06970000267028809, 2.0453999042510986, 2.0453999042510986, 2.035399913787842, 2.023400068283081, 2.022900104522705, 2.0206000804901123, 2.0076000690460205, 2.0048000812530518, 1.9749000072479248, 1.9732999801635742, 1.9700000286102295, 1.9657000303268433, 1.9570000171661377, 1.9402999877929688, 1.933500051498413, 1.9256000518798828, 1.9119999408721924, 1.90910005569458, 1.906000018119812, 1.8895000219345093, 1.882699966430664, 1.878000020980835, 1.871500015258789, 1.8653000593185425, 1.8581000566482544, 1.8494000434875488, 1.8396999835968018, 1.8393000364303589, 1.8305000066757202, 1.7984999418258667, 1.7970000505447388, 1.7345000505447388, 1.7563999891281128, 1.6957999467849731, 1.7295000553131104, 1.6569000482559204, 1.6445000171661377, 1.7674000263214111, 1.5958000421524048, 1.5751999616622925, 1.4875999689102173, 1.5867999792099, 1.5430999994277954, 1.2800999879837036, 0.9240999817848206, 1.277999997138977, 0.7684999704360962, 1.263100028038025, 1.1267999410629272, 1.518399953842163, 1.1241999864578247, 0.6139000058174133, 0.5672000050544739, 0.7936999797821045, 0.7551000118255615, 1.1028000116348267, 0.26930001378059387, 0.3671000003814697, 0.2371000051498413, 0.19900000095367432, 0.29030001163482666, -0.32440000772476196, -0.42340001463890076, 0.149399995803833, 2.094099998474121, 2.0471999645233154, 2.044800043106079, 2.031399965286255, 2.0190999507904053, 2.0176000595092773, 1.9888999462127686, 1.969599962234497, 1.9656000137329102, 1.9646999835968018, 1.9539999961853027, 1.9402999877929688, 1.929800033569336, 1.9192999601364136, 1.9120999574661255, 1.8990999460220337, 1.8990999460220337, 1.886199951171875, 1.8760000467300415, 1.8392000198364258, 1.8180999755859375, 1.8149000406265259, 1.8148000240325928, 1.813599944114685, 1.7970999479293823, 1.7914999723434448, 1.7888000011444092, 1.7868000268936157, 1.780400037765503, 1.777999997138977, 1.7733999490737915, 1.730299949645996, 1.7374999523162842, 1.7094000577926636, 1.6577999591827393, 1.5734000205993652, 1.5240999460220337, 1.5083999633789062, 1.6747000217437744, 1.4117000102996826, 1.6226999759674072, 1.4457999467849731, 1.3812999725341797, 1.2958999872207642, 1.618299961090088, 1.438099980354309, 1.2239999771118164, 1.3523999452590942, 1.162500023841858, 0.8567000031471252, 0.7996000051498413, 1.156000018119812, 0.9998999834060669, 1.1612000465393066, 0.7062000036239624, 0.9018999934196472, 0.8604000210762024, 0.5838000178337097, 0.5655999779701233, 0.41769999265670776, 1.0820000171661377, 0.53329998254776, 1.2007999420166016, 0.5325999855995178, 0.6908000111579895, 0.17679999768733978, -0.2160000056028366, 0.06560000032186508, -0.08079999685287476, -0.10899999737739563, 3.109299898147583, 3.0996999740600586, 3.0559000968933105, 3.047499895095825, 3.0297999382019043, 3.0020999908447266, 2.9718000888824463, 2.959199905395508, 2.953900098800659, 2.899399995803833, 2.860300064086914, 2.8554999828338623, 2.85509991645813, 2.8331000804901123, 2.8294999599456787, 2.7832999229431152, 2.7813000679016113, 2.7558000087738037, 2.6872000694274902, 2.6810998916625977, 2.674099922180176, 2.6735999584198, 2.6670000553131104, 2.637200117111206, 2.626300096511841, 2.609299898147583, 2.598599910736084, 2.5831000804901123, 2.5792999267578125, 2.5685999393463135, 2.558199882507324, 2.562000036239624, 2.504499912261963, 2.4403998851776123, 2.379499912261963, 2.3076000213623047, 2.358799934387207, 2.1742000579833984, 2.1498000621795654, 2.1519999504089355, 1.929900050163269, 2.1022000312805176, 1.8947999477386475, 1.8811999559402466, 1.7547999620437622, 2.1340999603271484, 1.8112000226974487, 1.2271000146865845, 1.3866000175476074, 1.0585999488830566, 0.5666000247001648, 1.4134999513626099, 0.8575999736785889, 1.3063000440597534, 0.2953999936580658, -0.14399999380111694, 0.9872000217437744, 0.19740000367164612]}, \"token.table\": {\"Topic\": [1, 2, 3, 4, 1, 2, 3, 4, 5, 3, 1, 2, 3, 4, 5, 1, 3, 4, 5, 1, 5, 1, 2, 5, 1, 2, 3, 4, 5, 1, 2, 3, 4, 5, 1, 2, 3, 4, 5, 1, 3, 4, 2, 1, 2, 3, 4, 5, 1, 1, 2, 5, 1, 3, 4, 5, 1, 5, 1, 2, 5, 1, 2, 3, 4, 2, 5, 1, 2, 3, 4, 5, 1, 2, 4, 5, 1, 1, 2, 3, 4, 1, 2, 3, 5, 1, 3, 4, 5, 1, 2, 3, 1, 1, 2, 3, 4, 5, 1, 2, 3, 4, 5, 1, 3, 1, 1, 4, 1, 5, 1, 2, 1, 3, 1, 1, 2, 3, 4, 5, 1, 2, 3, 4, 1, 2, 3, 4, 5, 2, 3, 4, 5, 1, 2, 3, 1, 3, 4, 5, 1, 2, 3, 1, 3, 4, 5, 1, 2, 4, 1, 2, 3, 4, 5, 1, 4, 2, 3, 4, 5, 5, 1, 2, 3, 4, 5, 1, 2, 3, 4, 5, 1, 2, 3, 4, 1, 2, 1, 3, 4, 1, 2, 5, 1, 3, 4, 5, 1, 1, 3, 1, 2, 3, 4, 5, 2, 3, 4, 5, 1, 3, 4, 5, 1, 4, 2, 3, 5, 1, 2, 3, 4, 5, 1, 2, 1, 1, 4, 1, 1, 3, 1, 4, 2, 3, 5, 1, 2, 1, 2, 3, 1, 2, 5, 1, 4, 5, 1, 2, 3, 4, 5, 1, 2, 3, 4, 2, 2, 3, 3, 5, 1, 4, 1, 2, 3, 5, 1, 2, 3, 4, 5, 1, 2, 3, 4, 5, 1, 4, 5, 1, 2, 3, 4, 1, 2, 4, 1, 4, 5, 1, 3, 2, 3, 1, 2, 3, 5, 2, 3, 2, 3, 1, 2, 3, 4, 2, 1, 4, 2, 3, 2, 3, 5, 3, 1, 5, 1, 4, 1, 2, 3, 4, 5, 1, 2, 4, 5, 1, 2, 1, 2, 3, 4, 5, 2, 5, 1, 4, 1, 2, 3, 4, 1, 2, 3, 4, 5, 1, 4, 4, 5, 1, 2, 3, 4, 5, 1, 3, 4, 5, 1, 2, 3, 4, 5, 5, 1, 2, 3, 4, 5, 1, 2, 1, 4, 2, 3, 4, 5, 1, 4, 1, 1, 2, 3, 4, 1, 1, 2, 3, 4, 1, 2, 3, 4, 5, 1, 1, 4, 2, 3, 4, 1, 2, 3, 4, 5, 1, 3, 4, 5, 1, 2, 3, 5, 1, 3, 4, 5, 1, 1, 3, 4, 5, 1, 2, 3, 4, 5, 1, 2, 3, 4, 5, 1, 2, 3, 4, 5, 1, 1, 2, 4, 1, 2, 5, 1, 2, 3, 4, 1, 3, 4, 5, 1, 2, 3, 4, 5, 3, 4, 5, 1, 2, 3, 4, 5, 3, 1, 2, 2, 3, 4, 5, 1, 4, 1, 2, 3, 4, 5, 1, 3, 4, 1, 2, 3, 4, 5, 1, 2, 3, 5, 1, 4, 1, 2, 3, 4, 5, 2, 3, 1, 2, 3, 5, 1, 3, 5, 1, 2, 3, 4, 5, 3, 4, 5, 1, 2, 3, 4, 5, 1, 2, 3, 4, 5, 2, 2, 3, 1, 2, 5, 1, 5, 1, 3, 4, 1, 2, 3, 4, 5, 2, 3, 4, 5, 1, 3, 5, 1, 2, 3, 4, 5, 1, 3, 4, 5, 1, 2, 3, 4, 5, 1, 2, 3, 4, 5, 1, 2, 3, 4, 5, 1, 2, 3, 4, 1, 2, 3, 4, 5, 1, 3, 4, 5, 1, 2, 3, 4, 5, 1, 2, 3, 4, 1, 2, 3, 5, 2, 3, 4, 5, 1, 2, 3, 4, 5, 1, 2, 3, 5, 1, 2, 3, 4, 1, 4, 3, 4, 1, 3, 4, 2, 3, 4, 3, 4, 5, 1, 3, 4, 5, 3, 4, 1, 2, 3, 4, 5, 2, 3, 1, 1, 4, 1, 1, 2, 1, 1, 3, 1, 2, 3, 5, 1, 2, 3, 4, 5, 1, 5, 1, 2, 3, 5, 1, 3, 4, 1, 2, 3, 4, 1, 3, 4, 5, 2, 1, 4, 1, 2, 1, 2, 3, 4, 5, 1, 2, 4, 5, 1, 1, 2, 3, 4, 5, 1, 2, 3, 1, 4, 5, 1, 5, 1, 1, 2, 3, 4, 5, 1, 2, 3, 4, 5, 3, 4, 5, 2, 3, 5, 1, 2, 1, 3, 4, 5, 4, 5, 1, 2, 1, 2, 3, 1, 3, 4, 1, 3, 4, 5, 1, 2, 5, 2, 3, 4, 1, 3, 4, 1, 4, 5, 1, 5, 1, 2, 3, 4, 1, 2, 3, 4, 5, 1, 2, 3, 4, 5, 1, 2, 3, 4, 5, 1, 2, 4, 5, 1, 2, 3, 4, 5, 1, 2, 3, 4, 5, 1, 3, 5, 1, 2, 3, 4, 5, 1, 2, 3, 4, 5, 1, 2, 3, 1, 2, 3, 4, 5, 1, 2, 3, 4, 5, 1, 2, 3, 4, 5, 1, 2, 3, 5, 1, 2, 3, 4, 5, 1, 2, 3, 4, 5, 1, 2, 4, 2, 4, 1, 2, 3, 4, 5, 1, 2, 3, 4, 5, 2, 3, 4, 5, 1, 2, 3, 4, 5, 1, 1, 2, 5, 1, 2, 3, 4, 5, 1, 2, 1, 2, 3, 4, 2, 3, 4, 3, 4, 5, 1, 1, 2, 3, 4, 5, 1, 2, 3, 4, 5, 1, 2, 3, 4, 5, 1, 2, 3, 4, 5, 1, 2, 3, 4, 5, 1, 2, 3, 4, 5, 1, 2, 3, 4, 5, 1, 3, 4, 5, 1, 2, 3, 4, 1, 2, 3, 4, 5, 1, 2, 3, 4, 5, 2, 3, 1, 2, 3, 4, 5, 1, 2, 3, 4, 1, 1, 2, 3, 4, 5], \"Freq\": [0.7973067164421082, 0.05133344605565071, 0.09611368924379349, 0.05461005121469498, 0.5201544761657715, 0.33055379986763, 0.09854245185852051, 0.033679064363241196, 0.016215845942497253, 0.9950199723243713, 0.469267338514328, 0.12139131128787994, 0.1567971110343933, 0.2141207903623581, 0.03821578249335289, 0.026359958574175835, 0.5874505043029785, 0.3464451730251312, 0.04142279177904129, 0.3496277332305908, 0.6375564336776733, 0.9963382482528687, 0.8871083855628967, 0.11570978909730911, 0.8883334994316101, 0.044126369059085846, 0.009870371781289577, 0.045868199318647385, 0.011612202040851116, 0.798148512840271, 0.03519720956683159, 0.005176060367375612, 0.07660569250583649, 0.08488738536834717, 0.5147162675857544, 0.22984185814857483, 0.11135999858379364, 0.09841115772724152, 0.04596836864948273, 0.02351699396967888, 0.09406797587871552, 0.8701287508010864, 0.9854544997215271, 0.2569342255592346, 0.03083210624754429, 0.023980528116226196, 0.21925053000450134, 0.46590739488601685, 0.993880033493042, 0.007577511947602034, 0.7956387400627136, 0.19701531529426575, 0.21498622000217438, 0.003643834264948964, 0.6704655289649963, 0.10931503027677536, 0.3429224193096161, 0.6172603964805603, 0.07361014187335968, 0.4200108051300049, 0.5022809505462646, 0.7291510105133057, 0.12720391154289246, 0.0556517094373703, 0.08745268732309341, 0.036679454147815704, 0.916986346244812, 0.4792969524860382, 0.0700596496462822, 0.12343842536211014, 0.17792926728725433, 0.1501278132200241, 0.44326895475387573, 0.3932502865791321, 0.00689912773668766, 0.15695515275001526, 0.9987143278121948, 0.07190389186143875, 0.9347506165504456, 0.05676933377981186, 0.9444352984428406, 0.05074189230799675, 0.964095950126648, 0.9842617511749268, 0.012838196940720081, 0.9981637597084045, 0.8150283694267273, 0.15801571309566498, 0.016633233055472374, 0.0068815103732049465, 0.24085286259651184, 0.7500845789909363, 0.9917526245117188, 0.2895737886428833, 0.2490662932395935, 0.23757092654705048, 0.18447327613830566, 0.039412688463926315, 0.09107225388288498, 0.03563696891069412, 0.15838652849197388, 0.6375057697296143, 0.07523360103368759, 0.07245384901762009, 0.9177488088607788, 0.9980915784835815, 0.18049603700637817, 0.8122321963310242, 0.9921795129776001, 0.006279617082327604, 0.011328800581395626, 0.9856056571006775, 0.9948939681053162, 0.004737590439617634, 0.9990955591201782, 0.03471696004271507, 0.06943392008543015, 0.12498106062412262, 0.645735502243042, 0.11803767085075378, 0.19947054982185364, 0.03860720619559288, 0.012869068421423435, 0.7464059591293335, 0.446960985660553, 0.0317881740629673, 0.2099945992231369, 0.2880201041698456, 0.023118671029806137, 0.11011205613613129, 0.26070648431777954, 0.49874281883239746, 0.12792429327964783, 0.04220988228917122, 0.844197690486908, 0.08441976457834244, 0.08681435883045197, 0.02170358970761299, 0.7596256136894226, 0.13022153079509735, 0.9993508458137512, 0.8397734761238098, 0.15745753049850464, 0.14708267152309418, 0.6734838485717773, 0.14450228214263916, 0.033545173704624176, 0.025487245991826057, 0.22938521206378937, 0.7136428952217102, 0.03334220126271248, 0.0037046889774501324, 0.7261190414428711, 0.08520784974098206, 0.15559694170951843, 0.06580852717161179, 0.9542236328125, 0.34882086515426636, 0.06731630861759186, 0.01223932858556509, 0.5691288113594055, 0.9790669679641724, 0.42752060294151306, 0.1038355901837349, 0.1717773973941803, 0.24612881243228912, 0.05063587427139282, 0.7789819836616516, 0.012306192889809608, 0.036918576806783676, 0.15874989330768585, 0.01353681180626154, 0.14452046155929565, 0.08129275590181351, 0.027097586542367935, 0.7496998906135559, 0.974529504776001, 0.02507980354130268, 0.034775812178850174, 0.7766598463058472, 0.1912669688463211, 0.21572846174240112, 0.7458040714263916, 0.03698202222585678, 0.05975287780165672, 0.6274052262306213, 0.29577675461769104, 0.017925864085555077, 0.9925317764282227, 0.025400996208190918, 0.9652378559112549, 0.9942442774772644, 0.3323907256126404, 0.6323531270027161, 0.010809455066919327, 0.021618910133838654, 0.054085489362478256, 0.8087068200111389, 0.08756697922945023, 0.048934489488601685, 0.06828372925519943, 0.051212795078754425, 0.8706175684928894, 0.9580782055854797, 0.9893525242805481, 0.005653442814946175, 0.003821656107902527, 0.9210191369056702, 0.07261146605014801, 0.035717401653528214, 0.015307458117604256, 0.05612734705209732, 0.5153511166572571, 0.37758398056030273, 0.10081940144300461, 0.9073746204376221, 0.9939814805984497, 0.9846568703651428, 0.012787751853466034, 0.998016893863678, 0.9940074682235718, 0.004570149350911379, 0.9480741024017334, 0.0504891537129879, 0.06531253457069397, 0.9252609014511108, 0.010885422118008137, 0.05555384233593941, 0.9444153308868408, 0.010426991619169712, 0.09384292364120483, 0.8967213034629822, 0.9792779088020325, 0.01036272943019867, 0.01036272943019867, 0.012912874110043049, 0.3873862326145172, 0.5939922332763672, 0.2413819581270218, 0.6347451210021973, 0.06705053895711899, 0.017880145460367203, 0.035760290920734406, 0.12724237143993378, 0.025448475033044815, 0.8270754218101501, 0.012724237516522408, 0.9256008267402649, 0.21847276389598846, 0.7783092260360718, 0.0892341285943985, 0.9090726971626282, 0.16743479669094086, 0.8371739983558655, 0.14992587268352509, 0.2679924964904785, 0.1405555009841919, 0.4422813057899475, 0.2899545729160309, 0.010505600832402706, 0.2731456160545349, 0.2994096279144287, 0.12711776793003082, 0.5322422981262207, 0.30865535140037537, 0.07603461295366287, 0.045169077813625336, 0.038393713533878326, 0.96689373254776, 0.0242938119918108, 0.0072881439700722694, 0.00969396810978651, 0.07755174487829208, 0.8821511268615723, 0.03877587243914604, 0.939906895160675, 0.03777403384447098, 0.02222002111375332, 0.1781819760799408, 0.8145461678504944, 0.012727283872663975, 0.12318888306617737, 0.862322211265564, 0.7764104604721069, 0.2218315452337265, 0.05783039331436157, 0.8908002972602844, 0.04721931368112564, 0.003713878570124507, 0.9222772717475891, 0.07528793811798096, 0.7614026665687561, 0.23548536002635956, 0.047720860689878464, 0.1431625783443451, 0.7993243932723999, 0.005965107586234808, 0.9807942509651184, 0.8483880162239075, 0.15076211094856262, 0.9576059579849243, 0.027756694704294205, 0.8815122842788696, 0.03672967851161957, 0.07345935702323914, 0.9930965900421143, 0.41999495029449463, 0.5682284832000732, 0.06875548511743546, 0.916739821434021, 0.3940364122390747, 0.1173725426197052, 0.46110641956329346, 0.0016767506022006273, 0.026828009635210037, 0.8776230812072754, 0.09034354984760284, 0.02581244334578514, 0.006453110836446285, 0.012514346279203892, 0.988633394241333, 0.9038766026496887, 0.05754293128848076, 0.003232748946174979, 0.029418015852570534, 0.005818948149681091, 0.9526757597923279, 0.03969482332468033, 0.9870107769966125, 0.012036716565489769, 0.21398557722568512, 0.10699278861284256, 0.056311994791030884, 0.6138007640838623, 0.761642575263977, 0.19717207551002502, 0.007851985283195972, 0.022683512419462204, 0.010760127566754818, 0.014243531972169876, 0.9828037023544312, 0.9264603853225708, 0.052441153675317764, 0.603561282157898, 0.13321848213672638, 0.12098412960767746, 0.11690601706504822, 0.025148386135697365, 0.19746173918247223, 0.009402940049767494, 0.22567056119441986, 0.5735793113708496, 0.2978641092777252, 0.07113172858953476, 0.2534067928791046, 0.10892046242952347, 0.2689668536186218, 0.9819958209991455, 0.006631591357290745, 0.011052652262151241, 0.2564215362071991, 0.6852644681930542, 0.037579018622636795, 0.9756734371185303, 0.023510202765464783, 0.2616257667541504, 0.7101271152496338, 0.011667552404105663, 0.39903029799461365, 0.48303669691085815, 0.1026744619011879, 0.1093214750289917, 0.8745718002319336, 0.9966152310371399, 0.976596474647522, 0.003120116423815489, 0.018720699474215508, 0.003120116423815489, 0.9948391318321228, 0.1583176553249359, 0.10832260549068451, 0.008332507684826851, 0.7332606911659241, 0.4964071810245514, 0.2572776973247528, 0.13771295547485352, 0.0789981335401535, 0.029891185462474823, 0.9992092847824097, 0.9872303605079651, 0.012055730447173119, 0.8596349954605103, 0.08596350252628326, 0.049122001975774765, 0.7112345695495605, 0.13064990937709808, 0.08147269487380981, 0.06826090812683105, 0.00880785845220089, 0.2550821900367737, 0.005863958038389683, 0.7271308302879333, 0.008795937523245811, 0.12657639384269714, 0.21698810160160065, 0.01808234304189682, 0.6328819990158081, 0.11202965676784515, 0.016474949195981026, 0.5107234716415405, 0.3591538965702057, 0.9982539415359497, 0.9948487877845764, 0.8453326225280762, 0.13149619102478027, 0.01878516934812069, 0.33955636620521545, 0.49001848697662354, 0.08539741486310959, 0.0650646984577179, 0.020332718268036842, 0.25051483511924744, 0.41248562932014465, 0.17384864389896393, 0.10042189061641693, 0.064788319170475, 0.13367041945457458, 0.6015169024467468, 0.038191549479961395, 0.15594883263111115, 0.07320047169923782, 0.9950913190841675, 0.9719598293304443, 0.024359894916415215, 0.0048719788901507854, 0.0841604545712471, 0.8921008110046387, 0.01683209091424942, 0.013101202435791492, 0.714015543460846, 0.1572144329547882, 0.11791081726551056, 0.002574379090219736, 0.05148758366703987, 0.47111138701438904, 0.47368577122688293, 0.3880825638771057, 0.2000330537557602, 0.1705351024866104, 0.13734988868236542, 0.10324286669492722, 0.0510077103972435, 0.14282158017158508, 0.7957202792167664, 0.2531295418739319, 0.15790462493896484, 0.22902196645736694, 0.24228113889694214, 0.11812712252140045, 0.9675617814064026, 0.12916350364685059, 0.8610900044441223, 0.10599160939455032, 0.699039876461029, 0.0883263424038887, 0.10599160939455032, 0.919546365737915, 0.07996055483818054, 0.0012550698593258858, 0.14182288944721222, 0.8446619510650635, 0.012550697661936283, 0.0012550698593258858, 0.050946932286024094, 0.025473466143012047, 0.9170447587966919, 0.36416396498680115, 0.22287866473197937, 0.2769879400730133, 0.11208348721265793, 0.02361912652850151, 0.004233184736222029, 0.34712111949920654, 0.11429598182439804, 0.5376144647598267, 0.9952260851860046, 0.0034676867071539164, 0.7457890510559082, 0.03423086181282997, 0.08399239182472229, 0.09793829917907715, 0.038034290075302124, 0.04336030036211014, 0.9539266228675842, 0.0029689716175198555, 0.29689717292785645, 0.3963577151298523, 0.3028351068496704, 0.11200865358114243, 0.03200247138738632, 0.8480655550956726, 0.07638635486364365, 0.013041573576629162, 0.38752102851867676, 0.38752102851867676, 0.1360049843788147, 0.4542165696620941, 0.2569909393787384, 0.2888658046722412, 0.52018141746521, 0.15389981865882874, 0.16826380789279938, 0.09900888800621033, 0.05899493396282196, 0.3791150748729706, 0.057496123015880585, 0.1653013527393341, 0.3593507707118988, 0.0377318300306797, 0.9962361454963684, 0.0847681537270546, 0.9154961109161377, 0.3312135934829712, 0.06022065505385399, 0.6022065281867981, 0.3638632893562317, 0.6237656474113464, 0.9676300883293152, 0.014229854568839073, 0.014229854568839073, 0.434957891702652, 0.2133961021900177, 0.16276897490024567, 0.14534887671470642, 0.04355022683739662, 0.1207447424530983, 0.3231697678565979, 0.4439145028591156, 0.11009079962968826, 0.049732040613889694, 0.866758406162262, 0.08525492250919342, 0.25111719965934753, 0.25051063299179077, 0.185608372092247, 0.28629788756370544, 0.027295347303152084, 0.11464890837669373, 0.012068306095898151, 0.7361666560173035, 0.13878551125526428, 0.37662550806999207, 0.14695434272289276, 0.2041521519422531, 0.20679204165935516, 0.0651174932718277, 0.5889731049537659, 0.14064112305641174, 0.14923927187919617, 0.07615502178668976, 0.04421904310584068, 0.6866443157196045, 0.09809204936027527, 0.10656042397022247, 0.0945635586977005, 0.014113963581621647, 0.9516263604164124, 0.0024589828681200743, 0.009835931472480297, 0.03565525263547897, 0.002487785881385207, 0.25126639008522034, 0.6020442247390747, 0.06717022508382797, 0.07712136209011078, 0.21693873405456543, 0.013996046967804432, 0.06998023390769958, 0.6928043365478516, 0.26106077432632446, 0.06723497062921524, 0.32356828451156616, 0.27051568031311035, 0.07721515744924545, 0.001612687949091196, 0.06450751423835754, 0.8885910511016846, 0.04515526071190834, 0.012389425188302994, 0.012389425188302994, 0.8672597408294678, 0.11150482296943665, 0.04223322123289108, 0.08446644246578217, 0.1098063737154007, 0.7601979970932007, 0.2790723741054535, 0.5990753173828125, 0.0706983357667923, 0.03907012939453125, 0.011162894777953625, 0.2206989824771881, 0.5208970904350281, 0.2539224922657013, 0.0047462149523198605, 0.3453778326511383, 0.6033709645271301, 0.012483536265790462, 0.03745061159133911, 0.972335696220398, 0.027432668954133987, 0.1812644898891449, 0.8156901597976685, 0.07925890386104584, 0.11888836324214935, 0.7925890684127808, 0.07441966235637665, 0.8483841419219971, 0.07441966235637665, 0.18626342713832855, 0.10244488716125488, 0.7078010439872742, 0.03688874840736389, 0.03688874840736389, 0.7654415369033813, 0.15677717328071594, 0.09799235314130783, 0.8819311857223511, 0.2778131067752838, 0.5763144493103027, 0.1329956352710724, 0.008866376243531704, 0.002955458592623472, 0.15847456455230713, 0.8451976776123047, 0.9959678053855896, 0.2793308198451996, 0.7229739427566528, 0.9992736577987671, 0.026590490713715553, 0.9572576880455017, 0.9958751797676086, 0.9984551668167114, 0.9775189757347107, 0.02911779284477234, 0.8007393479347229, 0.12375061959028244, 0.05095613747835159, 0.5200311541557312, 0.11686093360185623, 0.10934844613075256, 0.20701080560684204, 0.04590965434908867, 0.1669357270002365, 0.7512108087539673, 0.004558405838906765, 0.7430201768875122, 0.21424508094787598, 0.04102565348148346, 0.04941919818520546, 0.923758864402771, 0.02661033719778061, 0.9634099006652832, 0.003490615636110306, 0.006981231272220612, 0.02443430945277214, 0.07945562899112701, 0.22098596394062042, 0.5859852433204651, 0.11173447966575623, 0.9821041226387024, 0.17350788414478302, 0.8289821147918701, 0.023723283782601357, 0.9726546406745911, 0.17956097424030304, 0.005682309158146381, 0.4625399708747864, 0.33071041107177734, 0.022729236632585526, 0.2540840208530426, 0.07940125465393066, 0.07940125465393066, 0.5875692963600159, 0.9928551316261292, 0.008768306113779545, 0.01753661222755909, 0.05260983482003212, 0.03507322445511818, 0.88559889793396, 0.10000350326299667, 0.8750306367874146, 0.02500087581574917, 0.09252706915140152, 0.31459203362464905, 0.5736678242683411, 0.24947628378868103, 0.7484288215637207, 0.9993920922279358, 0.0019069749396294355, 0.015255799517035484, 0.14302311837673187, 0.5492087602615356, 0.2917671501636505, 0.38382792472839355, 0.2555777430534363, 0.17622868716716766, 0.16515673696994781, 0.019375929608941078, 0.22559985518455505, 0.38696640729904175, 0.38696640729904175, 0.6708827614784241, 0.307718962430954, 0.02217794395983219, 0.047402385622262955, 0.9480476975440979, 0.11612450331449509, 0.14192995429039001, 0.6902956962585449, 0.05161089077591896, 0.7283611297607422, 0.26955094933509827, 0.17871378362178802, 0.8265512585639954, 0.019120408222079277, 0.23422500491142273, 0.745695948600769, 0.07308002561330795, 0.07308002561330795, 0.8769603371620178, 0.08217175304889679, 0.0939105749130249, 0.1760823279619217, 0.645635187625885, 0.07644215226173401, 0.8408636450767517, 0.07644215226173401, 0.02611680142581463, 0.9532632827758789, 0.013058400712907314, 0.1196347177028656, 0.8274734616279602, 0.0598173588514328, 0.24127769470214844, 0.11058561503887177, 0.6434072256088257, 0.23206336796283722, 0.7348673343658447, 0.07440175861120224, 0.9225817918777466, 0.8227934241294861, 0.16455869376659393, 0.2573684751987457, 0.16935068368911743, 0.28410804271698, 0.2428845316171646, 0.04679426923394203, 0.040873363614082336, 0.031790394335985184, 0.2845997214317322, 0.3890538811683655, 0.25432315468788147, 0.7190876603126526, 0.17388108372688293, 0.05525193363428116, 0.03331366553902626, 0.01787562482059002, 0.9987376928329468, 0.29409193992614746, 0.08822758495807648, 0.5881838798522949, 0.0012101867469027638, 0.012101867236196995, 0.7273222208023071, 0.18878912925720215, 0.07019082456827164, 0.4235900342464447, 0.20969803631305695, 0.2264738827943802, 0.10245247185230255, 0.0377456471323967, 0.19029904901981354, 0.05437115579843521, 0.7340105772018433, 0.5625410676002502, 0.17502465844154358, 0.12685273587703705, 0.10918969660997391, 0.026762181892991066, 0.5669890642166138, 0.22567039728164673, 0.11939901858568192, 0.07876584678888321, 0.009376886300742626, 0.0788593739271164, 0.9012500047683716, 0.0197148434817791, 0.7492045164108276, 0.027129968628287315, 0.07930298894643784, 0.11895447969436646, 0.025043047964572906, 0.3159361779689789, 0.5482421517372131, 0.08363015949726105, 0.04088585823774338, 0.01300913654267788, 0.9992228150367737, 0.06540076434612274, 0.1062762439250946, 0.7439336776733398, 0.08175095170736313, 0.10209431499242783, 0.18586400151252747, 0.6649219393730164, 0.04712045192718506, 0.6723328232765198, 0.16203704476356506, 0.07739082723855972, 0.05643081292510033, 0.031440023332834244, 0.5868410468101501, 0.09169390797615051, 0.06890936195850372, 0.21784250438213348, 0.03445468097925186, 0.12145961076021194, 0.04858384653925896, 0.8502172827720642, 0.1455378234386444, 0.8247143030166626, 0.05388334393501282, 0.08775287121534348, 0.3956576883792877, 0.4141319692134857, 0.04926477000117302, 0.1650763750076294, 0.1361454576253891, 0.22123637795448303, 0.3165381848812103, 0.16167274117469788, 0.020914319902658463, 0.5679042339324951, 0.23327511548995972, 0.17535853385925293, 0.01668982021510601, 0.09060187637805939, 0.40055567026138306, 0.40293991565704346, 0.08821761608123779, 0.9984255433082581, 0.0914679691195488, 0.0914679691195488, 0.8232117295265198, 0.0033113625831902027, 0.14901131391525269, 0.3476930856704712, 0.12252041697502136, 0.37749534845352173, 0.991297721862793, 0.009718605317175388, 0.0024381924886256456, 0.35109972953796387, 0.6217390894889832, 0.02438192442059517, 0.8290224075317383, 0.05291632562875748, 0.10583265125751495, 0.03863128647208214, 0.1131344810128212, 0.8471289277076721, 0.9981042742729187, 0.28535518050193787, 0.2798464000225067, 0.17958645522594452, 0.17077240347862244, 0.08593708276748657, 0.7462176084518433, 0.07365354895591736, 0.09301786124706268, 0.06535455584526062, 0.02178485132753849, 0.0370858758687973, 0.03513398766517639, 0.18738128244876862, 0.5582400560379028, 0.18152561783790588, 0.40445199608802795, 0.28876206278800964, 0.126796156167984, 0.17307212948799133, 0.007404155097901821, 0.5839635729789734, 0.17549562454223633, 0.11188803613185883, 0.0996263325214386, 0.02988790161907673, 0.6346428990364075, 0.12844565510749817, 0.05360330641269684, 0.1299627274274826, 0.05360330641269684, 0.8618758320808411, 0.09210886806249619, 0.011513608507812023, 0.023027217015624046, 0.011513608507812023, 0.09484454244375229, 0.483255535364151, 0.049680475145578384, 0.3703453540802002, 0.19802087545394897, 0.1341431736946106, 0.05748993158340454, 0.6132259368896484, 0.4474300444126129, 0.297735333442688, 0.08766651898622513, 0.16210034489631653, 0.004962255712598562, 0.07038838416337967, 0.035194192081689835, 0.08798547834157944, 0.035194192081689835, 0.756675124168396, 0.8182058930397034, 0.17576274275779724, 0.19894345104694366, 0.5954723954200745, 0.11542794108390808, 0.08623146265745163, 0.0033949394710361958, 0.0671602189540863, 0.5820552110671997, 0.2462541162967682, 0.10233937948942184, 1.0001615285873413, 0.7901574969291687, 0.10906003415584564, 0.060510728508234024, 0.035180654376745224, 0.004925291985273361], \"Term\": [\"1\", \"1\", \"1\", \"1\", \"2\", \"2\", \"2\", \"2\", \"2\", \"3g\", \"about\", \"about\", \"about\", \"about\", \"about\", \"access\", \"access\", \"access\", \"access\", \"actress\", \"actress\", \"administration\", \"adventure\", \"adventure\", \"after\", \"after\", \"after\", \"after\", \"after\", \"against\", \"against\", \"against\", \"against\", \"against\", \"all\", \"all\", \"all\", \"all\", \"all\", \"analysis\", \"analysis\", \"analysis\", \"animated\", \"anti\", \"anti\", \"anti\", \"anti\", \"anti\", \"arsenal\", \"artist\", \"artist\", \"artist\", \"attack\", \"attack\", \"attack\", \"attack\", \"aviator\", \"aviator\", \"award\", \"award\", \"award\", \"back\", \"back\", \"back\", \"back\", \"bafta\", \"bafta\", \"being\", \"being\", \"being\", \"being\", \"being\", \"best\", \"best\", \"best\", \"best\", \"blair\", \"blockbuster\", \"blockbuster\", \"blog\", \"blog\", \"brit\", \"brit\", \"broadband\", \"broadband\", \"brown\", \"bt\", \"bt\", \"bt\", \"camera\", \"camera\", \"camera\", \"campbell\", \"can\", \"can\", \"can\", \"can\", \"can\", \"card\", \"card\", \"card\", \"card\", \"card\", \"cell\", \"cell\", \"chancellor\", \"chapter\", \"chapter\", \"charles\", \"charles\", \"chart\", \"chart\", \"club\", \"club\", \"coach\", \"code\", \"code\", \"code\", \"code\", \"code\", \"community\", \"community\", \"community\", \"community\", \"company\", \"company\", \"company\", \"company\", \"company\", \"computer\", \"computer\", \"computer\", \"computer\", \"concert\", \"concert\", \"concert\", \"confidential\", \"confidential\", \"confidential\", \"confidential\", \"conservative\", \"console\", \"console\", \"consumer\", \"consumer\", \"consumer\", \"consumer\", \"contains\", \"contains\", \"contains\", \"content\", \"content\", \"content\", \"content\", \"content\", \"convention\", \"convention\", \"copy\", \"copy\", \"copy\", \"copy\", \"copyright\", \"could\", \"could\", \"could\", \"could\", \"could\", \"country\", \"country\", \"country\", \"country\", \"country\", \"criminal\", \"criminal\", \"criminal\", \"criminal\", \"cup\", \"cup\", \"customer\", \"customer\", \"customer\", \"d\", \"d\", \"d\", \"data\", \"data\", \"data\", \"data\", \"deficit\", \"definition\", \"definition\", \"denied\", \"device\", \"device\", \"device\", \"device\", \"digital\", \"digital\", \"digital\", \"digital\", \"document\", \"document\", \"document\", \"drake\", \"drug\", \"drug\", \"dvd\", \"dvd\", \"dvd\", \"e\", \"e\", \"e\", \"e\", \"e\", \"earth\", \"earth\", \"east\", \"economic\", \"economic\", \"economist\", \"economy\", \"economy\", \"election\", \"election\", \"electronics\", \"electronics\", \"electronics\", \"elvis\", \"elvis\", \"engine\", \"engine\", \"engine\", \"england\", \"england\", \"england\", \"fake\", \"fake\", \"fake\", \"fan\", \"fan\", \"fan\", \"fan\", \"fan\", \"faster\", \"faster\", \"faster\", \"faster\", \"federer\", \"fi\", \"fi\", \"file\", \"file\", \"filing\", \"filing\", \"film\", \"film\", \"film\", \"film\", \"firm\", \"firm\", \"firm\", \"firm\", \"firm\", \"first\", \"first\", \"first\", \"first\", \"first\", \"foreign\", \"foreign\", \"foreign\", \"format\", \"format\", \"format\", \"format\", \"former\", \"former\", \"former\", \"fraud\", \"fraud\", \"fraud\", \"function\", \"function\", \"gadget\", \"gadget\", \"game\", \"game\", \"game\", \"game\", \"gamers\", \"gamers\", \"gaming\", \"gaming\", \"generation\", \"generation\", \"generation\", \"generation\", \"genre\", \"government\", \"government\", \"halo\", \"halo\", \"handheld\", \"handheld\", \"handheld\", \"handset\", \"harder\", \"harder\", \"harm\", \"harm\", \"high\", \"high\", \"high\", \"high\", \"high\", \"him\", \"him\", \"him\", \"him\", \"hip\", \"hip\", \"his\", \"his\", \"his\", \"his\", \"his\", \"hop\", \"hop\", \"howard\", \"howard\", \"human\", \"human\", \"human\", \"human\", \"i\", \"i\", \"i\", \"i\", \"i\", \"id\", \"id\", \"identity\", \"identity\", \"if\", \"if\", \"if\", \"if\", \"if\", \"illegal\", \"illegal\", \"illegal\", \"illegal\", \"industry\", \"industry\", \"industry\", \"industry\", \"industry\", \"infected\", \"information\", \"information\", \"information\", \"information\", \"information\", \"injury\", \"injury\", \"internal\", \"internal\", \"internet\", \"internet\", \"internet\", \"internet\", \"investigating\", \"investigating\", \"investor\", \"ireland\", \"ireland\", \"ireland\", \"ireland\", \"johnson\", \"journalist\", \"journalist\", \"journalist\", \"journalist\", \"just\", \"just\", \"just\", \"just\", \"just\", \"kennedy\", \"labour\", \"labour\", \"laptop\", \"laptop\", \"laptop\", \"last\", \"last\", \"last\", \"last\", \"last\", \"law\", \"law\", \"law\", \"law\", \"learning\", \"learning\", \"learning\", \"learning\", \"legal\", \"legal\", \"legal\", \"legal\", \"lib\", \"liberal\", \"library\", \"library\", \"library\", \"life\", \"life\", \"life\", \"life\", \"life\", \"like\", \"like\", \"like\", \"like\", \"like\", \"list\", \"list\", \"list\", \"list\", \"list\", \"liverpool\", \"lord\", \"lord\", \"lord\", \"los\", \"los\", \"los\", \"magazine\", \"magazine\", \"magazine\", \"magazine\", \"mail\", \"mail\", \"mail\", \"mail\", \"make\", \"make\", \"make\", \"make\", \"make\", \"malicious\", \"malicious\", \"malicious\", \"many\", \"many\", \"many\", \"many\", \"many\", \"messaging\", \"metal\", \"metal\", \"microsoft\", \"microsoft\", \"microsoft\", \"microsoft\", \"minister\", \"minister\", \"mobile\", \"mobile\", \"mobile\", \"mobile\", \"mobile\", \"monitoring\", \"monitoring\", \"monitoring\", \"more\", \"more\", \"more\", \"more\", \"more\", \"movie\", \"movie\", \"movie\", \"movie\", \"mp\", \"mp\", \"mr\", \"mr\", \"mr\", \"mr\", \"mr\", \"multimedia\", \"multimedia\", \"music\", \"music\", \"music\", \"music\", \"musician\", \"musician\", \"musician\", \"net\", \"net\", \"net\", \"net\", \"net\", \"network\", \"network\", \"network\", \"new\", \"new\", \"new\", \"new\", \"new\", \"news\", \"news\", \"news\", \"news\", \"news\", \"nintendo\", \"nokia\", \"nokia\", \"nominated\", \"nominated\", \"nominated\", \"nominee\", \"nominee\", \"oil\", \"oil\", \"oil\", \"one\", \"one\", \"one\", \"one\", \"one\", \"online\", \"online\", \"online\", \"online\", \"operator\", \"operator\", \"operator\", \"or\", \"or\", \"or\", \"or\", \"or\", \"organisation\", \"organisation\", \"organisation\", \"organisation\", \"other\", \"other\", \"other\", \"other\", \"other\", \"out\", \"out\", \"out\", \"out\", \"out\", \"over\", \"over\", \"over\", \"over\", \"over\", \"party\", \"party\", \"party\", \"party\", \"pc\", \"pc\", \"pc\", \"pc\", \"pc\", \"peer\", \"peer\", \"peer\", \"peer\", \"people\", \"people\", \"people\", \"people\", \"people\", \"phone\", \"phone\", \"phone\", \"phone\", \"photo\", \"photo\", \"photo\", \"photo\", \"piracy\", \"piracy\", \"piracy\", \"piracy\", \"play\", \"play\", \"play\", \"play\", \"play\", \"player\", \"player\", \"player\", \"player\", \"playing\", \"playing\", \"playing\", \"playing\", \"prime\", \"prime\", \"privacy\", \"privacy\", \"procedure\", \"procedure\", \"procedure\", \"processor\", \"processor\", \"processor\", \"program\", \"program\", \"program\", \"protect\", \"protect\", \"protect\", \"protect\", \"protected\", \"protected\", \"really\", \"really\", \"really\", \"really\", \"really\", \"recorder\", \"recorder\", \"reform\", \"respond\", \"respond\", \"robinson\", \"roddick\", \"roddick\", \"rugby\", \"russia\", \"samsung\", \"san\", \"san\", \"san\", \"san\", \"say\", \"say\", \"say\", \"say\", \"say\", \"scorsese\", \"scorsese\", \"screen\", \"screen\", \"screen\", \"screen\", \"search\", \"search\", \"search\", \"season\", \"season\", \"season\", \"season\", \"security\", \"security\", \"security\", \"security\", \"seed\", \"sentence\", \"sentence\", \"sequel\", \"sequel\", \"service\", \"service\", \"service\", \"service\", \"service\", \"shared\", \"shared\", \"shared\", \"shared\", \"shareholder\", \"sharing\", \"sharing\", \"sharing\", \"sharing\", \"sharing\", \"shoot\", \"shoot\", \"shoot\", \"shut\", \"shut\", \"shut\", \"sideways\", \"sideways\", \"sir\", \"site\", \"site\", \"site\", \"site\", \"site\", \"so\", \"so\", \"so\", \"so\", \"so\", \"software\", \"software\", \"software\", \"sony\", \"sony\", \"sony\", \"soul\", \"soul\", \"source\", \"source\", \"source\", \"source\", \"spam\", \"spam\", \"spanish\", \"spanish\", \"speed\", \"speed\", \"speed\", \"spokesperson\", \"spokesperson\", \"spokesperson\", \"spread\", \"spread\", \"spread\", \"spread\", \"starred\", \"starred\", \"starred\", \"storage\", \"storage\", \"storage\", \"store\", \"store\", \"store\", \"student\", \"student\", \"student\", \"studying\", \"studying\", \"stuff\", \"stuff\", \"subscriber\", \"subscriber\", \"such\", \"such\", \"such\", \"such\", \"such\", \"system\", \"system\", \"system\", \"system\", \"system\", \"t\", \"t\", \"t\", \"t\", \"t\", \"tax\", \"technique\", \"technique\", \"technique\", \"technology\", \"technology\", \"technology\", \"technology\", \"technology\", \"than\", \"than\", \"than\", \"than\", \"than\", \"theatre\", \"theatre\", \"theatre\", \"there\", \"there\", \"there\", \"there\", \"there\", \"time\", \"time\", \"time\", \"time\", \"time\", \"title\", \"title\", \"title\", \"told\", \"told\", \"told\", \"told\", \"told\", \"top\", \"top\", \"top\", \"top\", \"top\", \"tory\", \"traffic\", \"traffic\", \"traffic\", \"traffic\", \"tv\", \"tv\", \"tv\", \"tv\", \"two\", \"two\", \"two\", \"two\", \"two\", \"u\", \"u\", \"u\", \"u\", \"u\", \"un\", \"un\", \"un\", \"underground\", \"underground\", \"use\", \"use\", \"use\", \"use\", \"use\", \"used\", \"used\", \"used\", \"used\", \"used\", \"user\", \"user\", \"user\", \"user\", \"using\", \"using\", \"using\", \"using\", \"using\", \"v\", \"vera\", \"vera\", \"vera\", \"version\", \"version\", \"version\", \"version\", \"version\", \"victory\", \"victory\", \"video\", \"video\", \"video\", \"video\", \"virtual\", \"virtual\", \"virtual\", \"virus\", \"virus\", \"virus\", \"wale\", \"way\", \"way\", \"way\", \"way\", \"way\", \"we\", \"we\", \"we\", \"we\", \"we\", \"website\", \"website\", \"website\", \"website\", \"website\", \"what\", \"what\", \"what\", \"what\", \"what\", \"when\", \"when\", \"when\", \"when\", \"when\", \"who\", \"who\", \"who\", \"who\", \"who\", \"win\", \"win\", \"win\", \"win\", \"win\", \"window\", \"window\", \"window\", \"window\", \"word\", \"word\", \"word\", \"word\", \"world\", \"world\", \"world\", \"world\", \"world\", \"writer\", \"writer\", \"writer\", \"writer\", \"writer\", \"xbox\", \"xbox\", \"you\", \"you\", \"you\", \"you\", \"you\", \"your\", \"your\", \"your\", \"your\", \"yukos\", \"\\u00e2\", \"\\u00e2\", \"\\u00e2\", \"\\u00e2\", \"\\u00e2\"]}, \"R\": 30, \"lambda.step\": 0.01, \"plot.opts\": {\"xlab\": \"PC1\", \"ylab\": \"PC2\"}, \"topic.order\": [3, 1, 2, 4, 5]};\n",
       "\n",
       "function LDAvis_load_lib(url, callback){\n",
       "  var s = document.createElement('script');\n",
       "  s.src = url;\n",
       "  s.async = true;\n",
       "  s.onreadystatechange = s.onload = callback;\n",
       "  s.onerror = function(){console.warn(\"failed to load library \" + url);};\n",
       "  document.getElementsByTagName(\"head\")[0].appendChild(s);\n",
       "}\n",
       "\n",
       "if(typeof(LDAvis) !== \"undefined\"){\n",
       "   // already loaded: just create the visualization\n",
       "   !function(LDAvis){\n",
       "       new LDAvis(\"#\" + \"ldavis_el192031403053822252805627661434\", ldavis_el192031403053822252805627661434_data);\n",
       "   }(LDAvis);\n",
       "}else if(typeof define === \"function\" && define.amd){\n",
       "   // require.js is available: use it to load d3/LDAvis\n",
       "   require.config({paths: {d3: \"https://cdnjs.cloudflare.com/ajax/libs/d3/3.5.5/d3.min\"}});\n",
       "   require([\"d3\"], function(d3){\n",
       "      window.d3 = d3;\n",
       "      LDAvis_load_lib(\"https://cdn.rawgit.com/bmabey/pyLDAvis/files/ldavis.v1.0.0.js\", function(){\n",
       "        new LDAvis(\"#\" + \"ldavis_el192031403053822252805627661434\", ldavis_el192031403053822252805627661434_data);\n",
       "      });\n",
       "    });\n",
       "}else{\n",
       "    // require.js not available: dynamically load d3 & LDAvis\n",
       "    LDAvis_load_lib(\"https://cdnjs.cloudflare.com/ajax/libs/d3/3.5.5/d3.min.js\", function(){\n",
       "         LDAvis_load_lib(\"https://cdn.rawgit.com/bmabey/pyLDAvis/files/ldavis.v1.0.0.js\", function(){\n",
       "                 new LDAvis(\"#\" + \"ldavis_el192031403053822252805627661434\", ldavis_el192031403053822252805627661434_data);\n",
       "            })\n",
       "         });\n",
       "}\n",
       "</script>"
      ],
      "text/plain": [
       "PreparedData(topic_coordinates=          x     y  topics  cluster  Freq\n",
       "topic                                   \n",
       "2     -0.11  0.10       1        1 56.85\n",
       "0     -0.11 -0.11       2        1 13.75\n",
       "1      0.00 -0.06       3        1 12.85\n",
       "3      0.04  0.09       4        1 12.16\n",
       "4      0.18 -0.02       5        1  4.39, topic_info=          Term     Freq    Total Category  logprob  loglift\n",
       "2139      game 1,884.00 1,884.00  Default    30.00    30.00\n",
       "239     people 1,903.00 1,903.00  Default    29.00    29.00\n",
       "696        you 1,472.00 1,472.00  Default    28.00    28.00\n",
       "553     mobile   796.00   796.00  Default    27.00    27.00\n",
       "450   software   638.00   638.00  Default    26.00    26.00\n",
       "...        ...      ...      ...      ...      ...      ...\n",
       "690       used    95.33   587.61   Topic5    -5.34     1.31\n",
       "232        new   115.07 1,949.32   Topic5    -5.15     0.30\n",
       "229         mr   120.02 3,155.05   Topic5    -5.11    -0.14\n",
       "224       many    97.81   829.61   Topic5    -5.32     0.99\n",
       "287        who   105.83 1,977.49   Topic5    -5.24     0.20\n",
       "\n",
       "[375 rows x 6 columns], token_table=      Topic  Freq Term\n",
       "term                  \n",
       "291       1  0.80    1\n",
       "291       2  0.05    1\n",
       "291       3  0.10    1\n",
       "291       4  0.05    1\n",
       "2         1  0.52    2\n",
       "...     ...   ...  ...\n",
       "523       1  0.79    â\n",
       "523       2  0.11    â\n",
       "523       3  0.06    â\n",
       "523       4  0.04    â\n",
       "523       5  0.00    â\n",
       "\n",
       "[943 rows x 3 columns], R=30, lambda_step=0.01, plot_opts={'xlab': 'PC1', 'ylab': 'PC2'}, topic_order=[3, 1, 2, 4, 5])"
      ]
     },
     "execution_count": 35,
     "metadata": {},
     "output_type": "execute_result"
    }
   ],
   "source": [
    "pyLDAvis.enable_notebook()\n",
    "vis = pyLDAvis.gensim.prepare(model, corpus, dictionary=dictionary)\n",
    "vis"
   ]
  },
  {
   "cell_type": "markdown",
   "metadata": {},
   "source": [
    "### Assign Topic Model Numbers to original Data Frame as Column"
   ]
  },
  {
   "cell_type": "code",
   "execution_count": 37,
   "metadata": {},
   "outputs": [],
   "source": [
    "# Assigns the topics to the documents in corpus\n",
    "lda_corpus = model[corpus]"
   ]
  },
  {
   "cell_type": "code",
   "execution_count": 38,
   "metadata": {},
   "outputs": [],
   "source": [
    "topics = []\n",
    "\n",
    "for doc in lda_corpus:\n",
    "    temp_id = []\n",
    "    temp_score = []\n",
    "    for doc_tuple in doc:\n",
    "        temp_id.append(doc_tuple[0])\n",
    "        temp_score.append(doc_tuple[1])\n",
    "    index = np.argmax(temp_score)\n",
    "    topics.append(temp_id[index])"
   ]
  },
  {
   "cell_type": "code",
   "execution_count": 39,
   "metadata": {},
   "outputs": [],
   "source": [
    "docs[\"Topic_num\"] = topics"
   ]
  },
  {
   "cell_type": "code",
   "execution_count": 41,
   "metadata": {},
   "outputs": [
    {
     "data": {
      "text/html": [
       "<div>\n",
       "<style scoped>\n",
       "    .dataframe tbody tr th:only-of-type {\n",
       "        vertical-align: middle;\n",
       "    }\n",
       "\n",
       "    .dataframe tbody tr th {\n",
       "        vertical-align: top;\n",
       "    }\n",
       "\n",
       "    .dataframe thead th {\n",
       "        text-align: right;\n",
       "    }\n",
       "</style>\n",
       "<table border=\"1\" class=\"dataframe\">\n",
       "  <thead>\n",
       "    <tr style=\"text-align: right;\">\n",
       "      <th></th>\n",
       "      <th>Category</th>\n",
       "      <th>Heading</th>\n",
       "      <th>Article</th>\n",
       "      <th>Topic_num</th>\n",
       "    </tr>\n",
       "  </thead>\n",
       "  <tbody>\n",
       "    <tr>\n",
       "      <th>2220</th>\n",
       "      <td>tech</td>\n",
       "      <td>Warning over Windows Word files</td>\n",
       "      <td>Writing a Microsoft Word document can be a da...</td>\n",
       "      <td>3</td>\n",
       "    </tr>\n",
       "    <tr>\n",
       "      <th>2221</th>\n",
       "      <td>tech</td>\n",
       "      <td>Fast lifts rise into record books</td>\n",
       "      <td>Two high-speed lifts at the world's tallest b...</td>\n",
       "      <td>0</td>\n",
       "    </tr>\n",
       "    <tr>\n",
       "      <th>2222</th>\n",
       "      <td>tech</td>\n",
       "      <td>Nintendo adds media playing to DS</td>\n",
       "      <td>Nintendo is releasing an adapter for its DS h...</td>\n",
       "      <td>0</td>\n",
       "    </tr>\n",
       "    <tr>\n",
       "      <th>2223</th>\n",
       "      <td>tech</td>\n",
       "      <td>Fast moving phone viruses appear</td>\n",
       "      <td>Security firms are warning about several mobi...</td>\n",
       "      <td>1</td>\n",
       "    </tr>\n",
       "    <tr>\n",
       "      <th>2224</th>\n",
       "      <td>tech</td>\n",
       "      <td>Hacker threat to Apple's iTunes</td>\n",
       "      <td>Users of Apple's music jukebox iTunes need to...</td>\n",
       "      <td>1</td>\n",
       "    </tr>\n",
       "  </tbody>\n",
       "</table>\n",
       "</div>"
      ],
      "text/plain": [
       "     Category                            Heading  \\\n",
       "2220     tech    Warning over Windows Word files   \n",
       "2221     tech  Fast lifts rise into record books   \n",
       "2222     tech  Nintendo adds media playing to DS   \n",
       "2223     tech   Fast moving phone viruses appear   \n",
       "2224     tech    Hacker threat to Apple's iTunes   \n",
       "\n",
       "                                                Article  Topic_num  \n",
       "2220   Writing a Microsoft Word document can be a da...          3  \n",
       "2221   Two high-speed lifts at the world's tallest b...          0  \n",
       "2222   Nintendo is releasing an adapter for its DS h...          0  \n",
       "2223   Security firms are warning about several mobi...          1  \n",
       "2224   Users of Apple's music jukebox iTunes need to...          1  "
      ]
     },
     "execution_count": 41,
     "metadata": {},
     "output_type": "execute_result"
    }
   ],
   "source": [
    "docs.tail()"
   ]
  },
  {
   "cell_type": "code",
   "execution_count": null,
   "metadata": {},
   "outputs": [],
   "source": []
  }
 ],
 "metadata": {
  "kernelspec": {
   "display_name": "Python 3",
   "language": "python",
   "name": "python3"
  },
  "language_info": {
   "codemirror_mode": {
    "name": "ipython",
    "version": 3
   },
   "file_extension": ".py",
   "mimetype": "text/x-python",
   "name": "python",
   "nbconvert_exporter": "python",
   "pygments_lexer": "ipython3",
   "version": "3.8.3"
  }
 },
 "nbformat": 4,
 "nbformat_minor": 4
}
